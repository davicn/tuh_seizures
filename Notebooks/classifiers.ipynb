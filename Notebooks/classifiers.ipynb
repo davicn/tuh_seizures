{
 "nbformat": 4,
 "nbformat_minor": 2,
 "metadata": {
  "language_info": {
   "name": "python",
   "codemirror_mode": {
    "name": "ipython",
    "version": 3
   },
   "version": "3.7.4-final"
  },
  "orig_nbformat": 2,
  "file_extension": ".py",
  "mimetype": "text/x-python",
  "name": "python",
  "npconvert_exporter": "python",
  "pygments_lexer": "ipython3",
  "version": 3,
  "kernelspec": {
   "name": "python37464bitbaseconda0d4e73dbffd14058a7eacf93a44c56a7",
   "display_name": "Python 3.7.4 64-bit ('base': conda)"
  }
 },
 "cells": [
  {
   "cell_type": "markdown",
   "metadata": {},
   "source": [
    "# Classificação de Vetores de Caracteríticas de Janelas"
   ]
  },
  {
   "cell_type": "code",
   "execution_count": 1,
   "metadata": {},
   "outputs": [],
   "source": [
    "import numpy as np \n",
    "import pandas as pd \n",
    "import matplotlib.pyplot as plt \n",
    "import seaborn\n",
    "import os "
   ]
  },
  {
   "cell_type": "code",
   "execution_count": 2,
   "metadata": {},
   "outputs": [],
   "source": [
    "PATH = os.getcwd().replace('Notebooks','')\n",
    "\n",
    "eeg = np.load(PATH+'vars/feature_windows_eeg.npy')\n",
    "ecg = np.load(PATH+'vars/feature_windows_ecg.npy')\n",
    "emg = np.load(PATH+'vars/feature_windows_emg.npy')\n"
   ]
  },
  {
   "cell_type": "markdown",
   "metadata": {},
   "source": [
    "## Funções Auxiliares"
   ]
  },
  {
   "cell_type": "code",
   "execution_count": 16,
   "metadata": {},
   "outputs": [],
   "source": [
    "from sklearn.model_selection import cross_val_predict\n",
    "from sklearn.metrics import confusion_matrix, auc, roc_curve\n",
    "from sklearn import preprocessing\n",
    "\n",
    "def org(data):\n",
    "    le = preprocessing.LabelEncoder()\n",
    "    X = data[:,:-1]\n",
    "    y = le.fit(data[:,-1]).transform(data[:,-1])\n",
    "    return X,y\n",
    "\n",
    "def conf_matrix(y, y_pred):\n",
    "    m = confusion_matrix(y, y_pred)\n",
    "    return m.astype('float')/m.sum(axis=1)[:, np.newaxis]\n",
    "\n",
    "def plot_cm(cm):\n",
    "    con_df = pd.DataFrame(data=cm, columns=['No', 'Yes'])\n",
    "    sns.heatmap(con_df, annot=True, cmap=plt.cm.Blues)\n",
    "    plt.tight_layout()\n",
    "    plt.ylabel('True label')\n",
    "    plt.xlabel('Predicted label')\n",
    "\n",
    "def metrics(cm):\n",
    "    VP, FN, FP, VN = cm.ravel()\n",
    "    names = [\"ACU: \",\"SENS: \",\"ESP: \"]\n",
    "    return np.array([np.round(100*(VP+VN)/cm.sum(),decimals=4),\n",
    "            np.round((100*VP/(VP+FN)), decimals=4), \n",
    "          np.round((100*VN/(VN+FP)), decimals=4)])\n",
    "    # print(names[0], \n",
    "        #   np.round(100*(VP+VN)/cm.sum(), \n",
    "                #    decimals=4))\n",
    "    # print(names[1], \n",
    "        #   np.round((100*VP/(VP+FN)), decimals=4))\n",
    "    # print(names[2], \n",
    "        #   np.round((100*VN/(VN+FP)), decimals=4))\n",
    "\n"
   ]
  },
  {
   "cell_type": "code",
   "execution_count": null,
   "metadata": {},
   "outputs": [],
   "source": []
  },
  {
   "cell_type": "markdown",
   "metadata": {},
   "source": [
    "## Classificadores"
   ]
  },
  {
   "cell_type": "code",
   "execution_count": 4,
   "metadata": {},
   "outputs": [],
   "source": [
    "from sklearn.neighbors import KNeighborsClassifier\n",
    "from sklearn.svm import SVC\n",
    "from sklearn.discriminant_analysis import LinearDiscriminantAnalysis\n",
    "from sklearn.discriminant_analysis import QuadraticDiscriminantAnalysis\n",
    "from sklearn.naive_bayes import GaussianNB\n",
    "\n",
    "\n",
    "def KNN(X,y):\n",
    "    knn_ = KNeighborsClassifier(n_neighbors=5)\n",
    "    y_pred = cross_val_predict(knn_, X, y, cv=10)\n",
    "    # y_prob = cross_val_predict(knn_, X, y, cv=10, method='predict_proba')\n",
    "    cm = conf_matrix(y, y_pred)\n",
    "    return metrics(cm)\n",
    "\n",
    "def svm_rbf(X,y):\n",
    "    svc_ = SVC(kernel='rbf',probability=True)\n",
    "    y_pred = cross_val_predict(svc_, X, y, cv=10)\n",
    "    # y_prob = cross_val_predict(svc_, X, y, cv=10,method='predict_proba')\n",
    "    cm = conf_matrix(y, y_pred)\n",
    "    return metrics(cm)\n",
    "\n",
    "\n",
    "def svm_poly(X,y):\n",
    "    svc_ = SVC(kernel='poly',probability=True)\n",
    "    y_pred = cross_val_predict(svc_, X, y, cv=10)\n",
    "    # y_prob = cross_val_predict(svc_, X, y, cv=10,method='predict_proba')\n",
    "    cm = conf_matrix(y, y_pred)\n",
    "    return metrics(cm)\n",
    "\n",
    "def nb(X,y):\n",
    "    nb_ = GaussianNB()\n",
    "    y_pred = cross_val_predict(nb_, X, y, cv=10)\n",
    "    # y_prob = cross_val_predict(nb_, .X, .y, cv=10,method='predict_proba')\n",
    "    cm = conf_matrix(y, y_pred)\n",
    "    return metrics(cm)\n",
    "        # return roc_curve(y,y_prob[:,1])\n",
    "        \n",
    "def lda(X,y):\n",
    "    lda_ = LinearDiscriminantAnalysis()\n",
    "    y_pred = cross_val_predict(lda_, X, y, cv=10)\n",
    "    # y_prob = cross_val_predict(lda_, .X, .y, cv=10,method='predict_proba')\n",
    "    cm = conf_matrix(y, y_pred)\n",
    "    return metrics(cm)\n",
    "    # return roc_curve(y,y_prob[:,1])\n",
    "\n",
    "def qda(X,y):\n",
    "    qda_ = QuadraticDiscriminantAnalysis()\n",
    "    y_pred = cross_val_predict(qda_, X, y, cv=10)\n",
    "    # y_prob = cross_val_predict(qda_, self.X, self.y, cv=10,method='predict_proba')\n",
    "    cm = conf_matrix(y, y_pred)\n",
    "    return metrics(cm)\n",
    "    # return roc_curve(y,y_prob[:,1])\n"
   ]
  },
  {
   "cell_type": "markdown",
   "metadata": {},
   "source": [
    "## Classificação EEG"
   ]
  },
  {
   "cell_type": "code",
   "execution_count": 21,
   "metadata": {},
   "outputs": [
    {
     "data": {
      "text/html": "<div>\n<style scoped>\n    .dataframe tbody tr th:only-of-type {\n        vertical-align: middle;\n    }\n\n    .dataframe tbody tr th {\n        vertical-align: top;\n    }\n\n    .dataframe thead th {\n        text-align: right;\n    }\n</style>\n<table border=\"1\" class=\"dataframe\">\n  <thead>\n    <tr style=\"text-align: right;\">\n      <th></th>\n      <th>ac</th>\n      <th>sens</th>\n      <th>esp</th>\n    </tr>\n  </thead>\n  <tbody>\n    <tr>\n      <th>knn</th>\n      <td>67.5676</td>\n      <td>64.0927</td>\n      <td>71.0425</td>\n    </tr>\n    <tr>\n      <th>svm_rbf</th>\n      <td>53.6680</td>\n      <td>98.4556</td>\n      <td>8.8803</td>\n    </tr>\n    <tr>\n      <th>svm_poly</th>\n      <td>52.3166</td>\n      <td>99.2278</td>\n      <td>5.4054</td>\n    </tr>\n    <tr>\n      <th>nb</th>\n      <td>54.0541</td>\n      <td>98.4556</td>\n      <td>9.6525</td>\n    </tr>\n    <tr>\n      <th>lda</th>\n      <td>60.0386</td>\n      <td>81.0811</td>\n      <td>38.9961</td>\n    </tr>\n    <tr>\n      <th>qda</th>\n      <td>61.9691</td>\n      <td>97.2973</td>\n      <td>26.6409</td>\n    </tr>\n  </tbody>\n</table>\n</div>",
      "text/plain": "               ac     sens      esp\nknn       67.5676  64.0927  71.0425\nsvm_rbf   53.6680  98.4556   8.8803\nsvm_poly  52.3166  99.2278   5.4054\nnb        54.0541  98.4556   9.6525\nlda       60.0386  81.0811  38.9961\nqda       61.9691  97.2973  26.6409"
     },
     "execution_count": 21,
     "metadata": {},
     "output_type": "execute_result"
    }
   ],
   "source": [
    "X, y = org(eeg)\n",
    "\n",
    "met = []\n",
    "index_class = [\"knn\",\"svm_rbf\",\"svm_poly\",\"nb\",\"lda\",\"qda\"]\n",
    "col_metrics = ['ac','sens','esp']\n",
    "met.append(KNN(X,y))\n",
    "met.append(svm_rbf(X,y))\n",
    "met.append(svm_poly(X,y))\n",
    "met.append(nb(X,y))\n",
    "met.append(lda(X,y))\n",
    "met.append(qda(X,y))\n",
    "\n",
    "pd.DataFrame(data=np.array(met),columns=col_metrics,index=index_class)"
   ]
  },
  {
   "cell_type": "markdown",
   "metadata": {},
   "source": [
    "## Classficação ECG"
   ]
  },
  {
   "cell_type": "code",
   "execution_count": 22,
   "metadata": {},
   "outputs": [
    {
     "data": {
      "text/html": "<div>\n<style scoped>\n    .dataframe tbody tr th:only-of-type {\n        vertical-align: middle;\n    }\n\n    .dataframe tbody tr th {\n        vertical-align: top;\n    }\n\n    .dataframe thead th {\n        text-align: right;\n    }\n</style>\n<table border=\"1\" class=\"dataframe\">\n  <thead>\n    <tr style=\"text-align: right;\">\n      <th></th>\n      <th>ac</th>\n      <th>sens</th>\n      <th>esp</th>\n    </tr>\n  </thead>\n  <tbody>\n    <tr>\n      <th>knn</th>\n      <td>75.8687</td>\n      <td>77.9923</td>\n      <td>73.7452</td>\n    </tr>\n    <tr>\n      <th>svm_rbf</th>\n      <td>55.9846</td>\n      <td>100.0000</td>\n      <td>11.9691</td>\n    </tr>\n    <tr>\n      <th>svm_poly</th>\n      <td>54.8263</td>\n      <td>100.0000</td>\n      <td>9.6525</td>\n    </tr>\n    <tr>\n      <th>nb</th>\n      <td>57.9151</td>\n      <td>98.4556</td>\n      <td>17.3745</td>\n    </tr>\n    <tr>\n      <th>lda</th>\n      <td>75.0965</td>\n      <td>94.2085</td>\n      <td>55.9846</td>\n    </tr>\n    <tr>\n      <th>qda</th>\n      <td>69.8842</td>\n      <td>93.4363</td>\n      <td>46.3320</td>\n    </tr>\n  </tbody>\n</table>\n</div>",
      "text/plain": "               ac      sens      esp\nknn       75.8687   77.9923  73.7452\nsvm_rbf   55.9846  100.0000  11.9691\nsvm_poly  54.8263  100.0000   9.6525\nnb        57.9151   98.4556  17.3745\nlda       75.0965   94.2085  55.9846\nqda       69.8842   93.4363  46.3320"
     },
     "execution_count": 22,
     "metadata": {},
     "output_type": "execute_result"
    }
   ],
   "source": [
    "X, y = org(ecg)\n",
    "\n",
    "met = []\n",
    "index_class = [\"knn\",\"svm_rbf\",\"svm_poly\",\"nb\",\"lda\",\"qda\"]\n",
    "col_metrics = ['ac','sens','esp']\n",
    "met.append(KNN(X,y))\n",
    "met.append(svm_rbf(X,y))\n",
    "met.append(svm_poly(X,y))\n",
    "met.append(nb(X,y))\n",
    "met.append(lda(X,y))\n",
    "met.append(qda(X,y))\n",
    "\n",
    "pd.DataFrame(data=np.array(met),columns=col_metrics,index=index_class)"
   ]
  },
  {
   "cell_type": "markdown",
   "metadata": {},
   "source": [
    "## Classficação EMG"
   ]
  },
  {
   "cell_type": "code",
   "execution_count": 23,
   "metadata": {},
   "outputs": [
    {
     "data": {
      "text/html": "<div>\n<style scoped>\n    .dataframe tbody tr th:only-of-type {\n        vertical-align: middle;\n    }\n\n    .dataframe tbody tr th {\n        vertical-align: top;\n    }\n\n    .dataframe thead th {\n        text-align: right;\n    }\n</style>\n<table border=\"1\" class=\"dataframe\">\n  <thead>\n    <tr style=\"text-align: right;\">\n      <th></th>\n      <th>ac</th>\n      <th>sens</th>\n      <th>esp</th>\n    </tr>\n  </thead>\n  <tbody>\n    <tr>\n      <th>knn</th>\n      <td>94.7876</td>\n      <td>96.5251</td>\n      <td>93.0502</td>\n    </tr>\n    <tr>\n      <th>svm_rbf</th>\n      <td>73.7452</td>\n      <td>100.0000</td>\n      <td>47.4903</td>\n    </tr>\n    <tr>\n      <th>svm_poly</th>\n      <td>58.8803</td>\n      <td>100.0000</td>\n      <td>17.7606</td>\n    </tr>\n    <tr>\n      <th>nb</th>\n      <td>86.8726</td>\n      <td>100.0000</td>\n      <td>73.7452</td>\n    </tr>\n    <tr>\n      <th>lda</th>\n      <td>68.7259</td>\n      <td>97.6834</td>\n      <td>39.7683</td>\n    </tr>\n    <tr>\n      <th>qda</th>\n      <td>96.5251</td>\n      <td>97.2973</td>\n      <td>95.7529</td>\n    </tr>\n  </tbody>\n</table>\n</div>",
      "text/plain": "               ac      sens      esp\nknn       94.7876   96.5251  93.0502\nsvm_rbf   73.7452  100.0000  47.4903\nsvm_poly  58.8803  100.0000  17.7606\nnb        86.8726  100.0000  73.7452\nlda       68.7259   97.6834  39.7683\nqda       96.5251   97.2973  95.7529"
     },
     "execution_count": 23,
     "metadata": {},
     "output_type": "execute_result"
    }
   ],
   "source": [
    "X, y = org(emg)\n",
    "\n",
    "met = []\n",
    "index_class = [\"knn\",\"svm_rbf\",\"svm_poly\",\"nb\",\"lda\",\"qda\"]\n",
    "col_metrics = ['ac','sens','esp']\n",
    "met.append(KNN(X,y))\n",
    "met.append(svm_rbf(X,y))\n",
    "met.append(svm_poly(X,y))\n",
    "met.append(nb(X,y))\n",
    "met.append(lda(X,y))\n",
    "met.append(qda(X,y))\n",
    "\n",
    "pd.DataFrame(data=np.array(met),columns=col_metrics,index=index_class)"
   ]
  },
  {
   "cell_type": "markdown",
   "metadata": {},
   "source": [
    "# Combinando Sinais"
   ]
  },
  {
   "cell_type": "markdown",
   "metadata": {},
   "source": [
    "## EEG - ECG - EMG"
   ]
  },
  {
   "cell_type": "code",
   "execution_count": 25,
   "metadata": {},
   "outputs": [
    {
     "data": {
      "text/html": "<div>\n<style scoped>\n    .dataframe tbody tr th:only-of-type {\n        vertical-align: middle;\n    }\n\n    .dataframe tbody tr th {\n        vertical-align: top;\n    }\n\n    .dataframe thead th {\n        text-align: right;\n    }\n</style>\n<table border=\"1\" class=\"dataframe\">\n  <thead>\n    <tr style=\"text-align: right;\">\n      <th></th>\n      <th>ac</th>\n      <th>sens</th>\n      <th>esp</th>\n    </tr>\n  </thead>\n  <tbody>\n    <tr>\n      <th>knn</th>\n      <td>92.4710</td>\n      <td>95.7529</td>\n      <td>89.1892</td>\n    </tr>\n    <tr>\n      <th>svm_rbf</th>\n      <td>68.9189</td>\n      <td>100.0000</td>\n      <td>37.8378</td>\n    </tr>\n    <tr>\n      <th>svm_poly</th>\n      <td>59.4595</td>\n      <td>100.0000</td>\n      <td>18.9189</td>\n    </tr>\n    <tr>\n      <th>nb</th>\n      <td>86.1004</td>\n      <td>98.8417</td>\n      <td>73.3591</td>\n    </tr>\n    <tr>\n      <th>lda</th>\n      <td>82.0463</td>\n      <td>97.6834</td>\n      <td>66.4093</td>\n    </tr>\n    <tr>\n      <th>qda</th>\n      <td>97.1042</td>\n      <td>96.5251</td>\n      <td>97.6834</td>\n    </tr>\n  </tbody>\n</table>\n</div>",
      "text/plain": "               ac      sens      esp\nknn       92.4710   95.7529  89.1892\nsvm_rbf   68.9189  100.0000  37.8378\nsvm_poly  59.4595  100.0000  18.9189\nnb        86.1004   98.8417  73.3591\nlda       82.0463   97.6834  66.4093\nqda       97.1042   96.5251  97.6834"
     },
     "execution_count": 25,
     "metadata": {},
     "output_type": "execute_result"
    }
   ],
   "source": [
    "aux = np.hstack((eeg[:,:-1],ecg[:,:-1]))\n",
    "aux2 = np.hstack((aux,emg))\n",
    "\n",
    "X, y = org(aux2)\n",
    "\n",
    "met = []\n",
    "index_class = [\"knn\",\"svm_rbf\",\"svm_poly\",\"nb\",\"lda\",\"qda\"]\n",
    "col_metrics = ['ac','sens','esp']\n",
    "met.append(KNN(X,y))\n",
    "met.append(svm_rbf(X,y))\n",
    "met.append(svm_poly(X,y))\n",
    "met.append(nb(X,y))\n",
    "met.append(lda(X,y))\n",
    "met.append(qda(X,y))\n",
    "\n",
    "pd.DataFrame(data=np.array(met),columns=col_metrics,index=index_class)"
   ]
  },
  {
   "cell_type": "markdown",
   "metadata": {},
   "source": [
    "## ECG - EMG"
   ]
  },
  {
   "cell_type": "code",
   "execution_count": 26,
   "metadata": {},
   "outputs": [
    {
     "data": {
      "text/html": "<div>\n<style scoped>\n    .dataframe tbody tr th:only-of-type {\n        vertical-align: middle;\n    }\n\n    .dataframe tbody tr th {\n        vertical-align: top;\n    }\n\n    .dataframe thead th {\n        text-align: right;\n    }\n</style>\n<table border=\"1\" class=\"dataframe\">\n  <thead>\n    <tr style=\"text-align: right;\">\n      <th></th>\n      <th>ac</th>\n      <th>sens</th>\n      <th>esp</th>\n    </tr>\n  </thead>\n  <tbody>\n    <tr>\n      <th>knn</th>\n      <td>91.6988</td>\n      <td>96.9112</td>\n      <td>86.4865</td>\n    </tr>\n    <tr>\n      <th>svm_rbf</th>\n      <td>70.6564</td>\n      <td>100.0000</td>\n      <td>41.3127</td>\n    </tr>\n    <tr>\n      <th>svm_poly</th>\n      <td>59.6525</td>\n      <td>100.0000</td>\n      <td>19.3050</td>\n    </tr>\n    <tr>\n      <th>nb</th>\n      <td>86.1004</td>\n      <td>99.2278</td>\n      <td>72.9730</td>\n    </tr>\n    <tr>\n      <th>lda</th>\n      <td>81.6602</td>\n      <td>97.6834</td>\n      <td>65.6371</td>\n    </tr>\n    <tr>\n      <th>qda</th>\n      <td>97.4903</td>\n      <td>97.2973</td>\n      <td>97.6834</td>\n    </tr>\n  </tbody>\n</table>\n</div>",
      "text/plain": "               ac      sens      esp\nknn       91.6988   96.9112  86.4865\nsvm_rbf   70.6564  100.0000  41.3127\nsvm_poly  59.6525  100.0000  19.3050\nnb        86.1004   99.2278  72.9730\nlda       81.6602   97.6834  65.6371\nqda       97.4903   97.2973  97.6834"
     },
     "execution_count": 26,
     "metadata": {},
     "output_type": "execute_result"
    }
   ],
   "source": [
    "aux = np.hstack((ecg[:,:-1],emg))\n",
    "# aux2 = np.hstack((aux,emg))\n",
    "\n",
    "X, y = org(aux)\n",
    "\n",
    "met = []\n",
    "index_class = [\"knn\",\"svm_rbf\",\"svm_poly\",\"nb\",\"lda\",\"qda\"]\n",
    "col_metrics = ['ac','sens','esp']\n",
    "met.append(KNN(X,y))\n",
    "met.append(svm_rbf(X,y))\n",
    "met.append(svm_poly(X,y))\n",
    "met.append(nb(X,y))\n",
    "met.append(lda(X,y))\n",
    "met.append(qda(X,y))\n",
    "\n",
    "pd.DataFrame(data=np.array(met),columns=col_metrics,index=index_class)"
   ]
  },
  {
   "cell_type": "markdown",
   "metadata": {},
   "source": [
    "## EEG - ECg"
   ]
  },
  {
   "cell_type": "code",
   "execution_count": 27,
   "metadata": {},
   "outputs": [
    {
     "data": {
      "text/html": "<div>\n<style scoped>\n    .dataframe tbody tr th:only-of-type {\n        vertical-align: middle;\n    }\n\n    .dataframe tbody tr th {\n        vertical-align: top;\n    }\n\n    .dataframe thead th {\n        text-align: right;\n    }\n</style>\n<table border=\"1\" class=\"dataframe\">\n  <thead>\n    <tr style=\"text-align: right;\">\n      <th></th>\n      <th>ac</th>\n      <th>sens</th>\n      <th>esp</th>\n    </tr>\n  </thead>\n  <tbody>\n    <tr>\n      <th>knn</th>\n      <td>83.3977</td>\n      <td>86.4865</td>\n      <td>80.3089</td>\n    </tr>\n    <tr>\n      <th>svm_rbf</th>\n      <td>57.5290</td>\n      <td>99.6139</td>\n      <td>15.4440</td>\n    </tr>\n    <tr>\n      <th>svm_poly</th>\n      <td>55.9846</td>\n      <td>100.0000</td>\n      <td>11.9691</td>\n    </tr>\n    <tr>\n      <th>nb</th>\n      <td>59.8456</td>\n      <td>98.4556</td>\n      <td>21.2355</td>\n    </tr>\n    <tr>\n      <th>lda</th>\n      <td>78.5714</td>\n      <td>95.7529</td>\n      <td>61.3900</td>\n    </tr>\n    <tr>\n      <th>qda</th>\n      <td>76.2548</td>\n      <td>94.5946</td>\n      <td>57.9151</td>\n    </tr>\n  </tbody>\n</table>\n</div>",
      "text/plain": "               ac      sens      esp\nknn       83.3977   86.4865  80.3089\nsvm_rbf   57.5290   99.6139  15.4440\nsvm_poly  55.9846  100.0000  11.9691\nnb        59.8456   98.4556  21.2355\nlda       78.5714   95.7529  61.3900\nqda       76.2548   94.5946  57.9151"
     },
     "execution_count": 27,
     "metadata": {},
     "output_type": "execute_result"
    }
   ],
   "source": [
    "aux = np.hstack((eeg[:,:-1],ecg))\n",
    "# aux2 = np.hstack((aux,emg))\n",
    "\n",
    "X, y = org(aux)\n",
    "\n",
    "met = []\n",
    "index_class = [\"knn\",\"svm_rbf\",\"svm_poly\",\"nb\",\"lda\",\"qda\"]\n",
    "col_metrics = ['ac','sens','esp']\n",
    "met.append(KNN(X,y))\n",
    "met.append(svm_rbf(X,y))\n",
    "met.append(svm_poly(X,y))\n",
    "met.append(nb(X,y))\n",
    "met.append(lda(X,y))\n",
    "met.append(qda(X,y))\n",
    "\n",
    "pd.DataFrame(data=np.array(met),columns=col_metrics,index=index_class)"
   ]
  },
  {
   "cell_type": "markdown",
   "metadata": {},
   "source": [
    "## EEG - EMG"
   ]
  },
  {
   "cell_type": "code",
   "execution_count": 28,
   "metadata": {},
   "outputs": [
    {
     "data": {
      "text/html": "<div>\n<style scoped>\n    .dataframe tbody tr th:only-of-type {\n        vertical-align: middle;\n    }\n\n    .dataframe tbody tr th {\n        vertical-align: top;\n    }\n\n    .dataframe thead th {\n        text-align: right;\n    }\n</style>\n<table border=\"1\" class=\"dataframe\">\n  <thead>\n    <tr style=\"text-align: right;\">\n      <th></th>\n      <th>ac</th>\n      <th>sens</th>\n      <th>esp</th>\n    </tr>\n  </thead>\n  <tbody>\n    <tr>\n      <th>knn</th>\n      <td>95.1737</td>\n      <td>97.2973</td>\n      <td>93.0502</td>\n    </tr>\n    <tr>\n      <th>svm_rbf</th>\n      <td>73.7452</td>\n      <td>100.0000</td>\n      <td>47.4903</td>\n    </tr>\n    <tr>\n      <th>svm_poly</th>\n      <td>58.6873</td>\n      <td>100.0000</td>\n      <td>17.3745</td>\n    </tr>\n    <tr>\n      <th>nb</th>\n      <td>86.4865</td>\n      <td>99.2278</td>\n      <td>73.7452</td>\n    </tr>\n    <tr>\n      <th>lda</th>\n      <td>67.9537</td>\n      <td>90.3475</td>\n      <td>45.5598</td>\n    </tr>\n    <tr>\n      <th>qda</th>\n      <td>95.1737</td>\n      <td>96.1390</td>\n      <td>94.2085</td>\n    </tr>\n  </tbody>\n</table>\n</div>",
      "text/plain": "               ac      sens      esp\nknn       95.1737   97.2973  93.0502\nsvm_rbf   73.7452  100.0000  47.4903\nsvm_poly  58.6873  100.0000  17.3745\nnb        86.4865   99.2278  73.7452\nlda       67.9537   90.3475  45.5598\nqda       95.1737   96.1390  94.2085"
     },
     "execution_count": 28,
     "metadata": {},
     "output_type": "execute_result"
    }
   ],
   "source": [
    "aux = np.hstack((eeg[:,:-1],emg))\n",
    "# aux2 = np.hstack((aux,emg))\n",
    "\n",
    "X, y = org(aux)\n",
    "\n",
    "met = []\n",
    "index_class = [\"knn\",\"svm_rbf\",\"svm_poly\",\"nb\",\"lda\",\"qda\"]\n",
    "col_metrics = ['ac','sens','esp']\n",
    "met.append(KNN(X,y))\n",
    "met.append(svm_rbf(X,y))\n",
    "met.append(svm_poly(X,y))\n",
    "met.append(nb(X,y))\n",
    "met.append(lda(X,y))\n",
    "met.append(qda(X,y))\n",
    "\n",
    "pd.DataFrame(data=np.array(met),columns=col_metrics,index=index_class)"
   ]
  },
  {
   "cell_type": "code",
   "execution_count": 30,
   "metadata": {},
   "outputs": [
    {
     "data": {
      "text/plain": "(518, 5)"
     },
     "execution_count": 30,
     "metadata": {},
     "output_type": "execute_result"
    }
   ],
   "source": [
    "emg.shape"
   ]
  }
 ]
}