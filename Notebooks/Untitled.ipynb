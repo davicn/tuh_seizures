{
 "cells": [
  {
   "cell_type": "code",
   "execution_count": 11,
   "metadata": {},
   "outputs": [],
   "source": [
    "import numpy as np \n",
    "import pandas as pd\n",
    "\n",
    "w = pd.DataFrame(\n",
    "    data=np.load('w_train.npy'),\n",
    "    columns=['file','begin','end','type','freq','time','montage'])\n",
    "\n",
    "n = pd.DataFrame(\n",
    "    data=np.load('n_train.npy'),\n",
    "    columns=['file','freq','time','montage'])"
   ]
  },
  {
   "cell_type": "code",
   "execution_count": 12,
   "metadata": {},
   "outputs": [
    {
     "data": {
      "text/html": [
       "<div>\n",
       "<style scoped>\n",
       "    .dataframe tbody tr th:only-of-type {\n",
       "        vertical-align: middle;\n",
       "    }\n",
       "\n",
       "    .dataframe tbody tr th {\n",
       "        vertical-align: top;\n",
       "    }\n",
       "\n",
       "    .dataframe thead th {\n",
       "        text-align: right;\n",
       "    }\n",
       "</style>\n",
       "<table border=\"1\" class=\"dataframe\">\n",
       "  <thead>\n",
       "    <tr style=\"text-align: right;\">\n",
       "      <th></th>\n",
       "      <th>file</th>\n",
       "      <th>begin</th>\n",
       "      <th>end</th>\n",
       "      <th>type</th>\n",
       "      <th>freq</th>\n",
       "      <th>time</th>\n",
       "      <th>montage</th>\n",
       "    </tr>\n",
       "  </thead>\n",
       "  <tbody>\n",
       "    <tr>\n",
       "      <td>0</td>\n",
       "      <td>train/03_tcp_ar_a/029/00002991/s004_2010_04_26...</td>\n",
       "      <td>86.9922</td>\n",
       "      <td>115.207</td>\n",
       "      <td>FNSZ</td>\n",
       "      <td>256</td>\n",
       "      <td>391</td>\n",
       "      <td>[EEG FP1-REF, EEG FP2-REF, EEG F3-REF, EEG F4-...</td>\n",
       "    </tr>\n",
       "    <tr>\n",
       "      <td>1</td>\n",
       "      <td>train/03_tcp_ar_a/029/00002991/s004_2010_04_26...</td>\n",
       "      <td>189.973</td>\n",
       "      <td>209.109</td>\n",
       "      <td>FNSZ</td>\n",
       "      <td>256</td>\n",
       "      <td>391</td>\n",
       "      <td>[EEG FP1-REF, EEG FP2-REF, EEG F3-REF, EEG F4-...</td>\n",
       "    </tr>\n",
       "    <tr>\n",
       "      <td>2</td>\n",
       "      <td>train/03_tcp_ar_a/029/00002991/s004_2010_04_26...</td>\n",
       "      <td>338.949</td>\n",
       "      <td>358.004</td>\n",
       "      <td>FNSZ</td>\n",
       "      <td>256</td>\n",
       "      <td>391</td>\n",
       "      <td>[EEG FP1-REF, EEG FP2-REF, EEG F3-REF, EEG F4-...</td>\n",
       "    </tr>\n",
       "    <tr>\n",
       "      <td>3</td>\n",
       "      <td>train/03_tcp_ar_a/029/00002991/s004_2010_04_26...</td>\n",
       "      <td>20.9375</td>\n",
       "      <td>47.2656</td>\n",
       "      <td>FNSZ</td>\n",
       "      <td>256</td>\n",
       "      <td>603</td>\n",
       "      <td>[EEG FP1-REF, EEG FP2-REF, EEG F3-REF, EEG F4-...</td>\n",
       "    </tr>\n",
       "    <tr>\n",
       "      <td>4</td>\n",
       "      <td>train/03_tcp_ar_a/029/00002991/s004_2010_04_26...</td>\n",
       "      <td>109.027</td>\n",
       "      <td>136.789</td>\n",
       "      <td>FNSZ</td>\n",
       "      <td>256</td>\n",
       "      <td>603</td>\n",
       "      <td>[EEG FP1-REF, EEG FP2-REF, EEG F3-REF, EEG F4-...</td>\n",
       "    </tr>\n",
       "  </tbody>\n",
       "</table>\n",
       "</div>"
      ],
      "text/plain": [
       "                                                file    begin      end  type  \\\n",
       "0  train/03_tcp_ar_a/029/00002991/s004_2010_04_26...  86.9922  115.207  FNSZ   \n",
       "1  train/03_tcp_ar_a/029/00002991/s004_2010_04_26...  189.973  209.109  FNSZ   \n",
       "2  train/03_tcp_ar_a/029/00002991/s004_2010_04_26...  338.949  358.004  FNSZ   \n",
       "3  train/03_tcp_ar_a/029/00002991/s004_2010_04_26...  20.9375  47.2656  FNSZ   \n",
       "4  train/03_tcp_ar_a/029/00002991/s004_2010_04_26...  109.027  136.789  FNSZ   \n",
       "\n",
       "  freq time                                            montage  \n",
       "0  256  391  [EEG FP1-REF, EEG FP2-REF, EEG F3-REF, EEG F4-...  \n",
       "1  256  391  [EEG FP1-REF, EEG FP2-REF, EEG F3-REF, EEG F4-...  \n",
       "2  256  391  [EEG FP1-REF, EEG FP2-REF, EEG F3-REF, EEG F4-...  \n",
       "3  256  603  [EEG FP1-REF, EEG FP2-REF, EEG F3-REF, EEG F4-...  \n",
       "4  256  603  [EEG FP1-REF, EEG FP2-REF, EEG F3-REF, EEG F4-...  "
      ]
     },
     "execution_count": 12,
     "metadata": {},
     "output_type": "execute_result"
    }
   ],
   "source": [
    "w.head()"
   ]
  },
  {
   "cell_type": "code",
   "execution_count": 13,
   "metadata": {},
   "outputs": [
    {
     "data": {
      "text/html": [
       "<div>\n",
       "<style scoped>\n",
       "    .dataframe tbody tr th:only-of-type {\n",
       "        vertical-align: middle;\n",
       "    }\n",
       "\n",
       "    .dataframe tbody tr th {\n",
       "        vertical-align: top;\n",
       "    }\n",
       "\n",
       "    .dataframe thead th {\n",
       "        text-align: right;\n",
       "    }\n",
       "</style>\n",
       "<table border=\"1\" class=\"dataframe\">\n",
       "  <thead>\n",
       "    <tr style=\"text-align: right;\">\n",
       "      <th></th>\n",
       "      <th>file</th>\n",
       "      <th>freq</th>\n",
       "      <th>time</th>\n",
       "      <th>montage</th>\n",
       "    </tr>\n",
       "  </thead>\n",
       "  <tbody>\n",
       "    <tr>\n",
       "      <td>0</td>\n",
       "      <td>train/03_tcp_ar_a/028/00002886/s006_2011_03_08...</td>\n",
       "      <td>256</td>\n",
       "      <td>826</td>\n",
       "      <td>[EEG FP1-REF, EEG FP2-REF, EEG F3-REF, EEG F4-...</td>\n",
       "    </tr>\n",
       "    <tr>\n",
       "      <td>1</td>\n",
       "      <td>train/03_tcp_ar_a/028/00002886/s006_2011_03_08...</td>\n",
       "      <td>256</td>\n",
       "      <td>601</td>\n",
       "      <td>[EEG FP1-REF, EEG FP2-REF, EEG F3-REF, EEG F4-...</td>\n",
       "    </tr>\n",
       "    <tr>\n",
       "      <td>2</td>\n",
       "      <td>train/03_tcp_ar_a/028/00002886/s006_2011_03_08...</td>\n",
       "      <td>256</td>\n",
       "      <td>333</td>\n",
       "      <td>[EEG FP1-REF, EEG FP2-REF, EEG F3-REF, EEG F4-...</td>\n",
       "    </tr>\n",
       "    <tr>\n",
       "      <td>3</td>\n",
       "      <td>train/03_tcp_ar_a/029/00002991/s004_2010_04_26...</td>\n",
       "      <td>256</td>\n",
       "      <td>601</td>\n",
       "      <td>[EEG FP1-REF, EEG FP2-REF, EEG F3-REF, EEG F4-...</td>\n",
       "    </tr>\n",
       "    <tr>\n",
       "      <td>4</td>\n",
       "      <td>train/03_tcp_ar_a/029/00002991/s005_2010_04_27...</td>\n",
       "      <td>256</td>\n",
       "      <td>601</td>\n",
       "      <td>[EEG FP1-REF, EEG FP2-REF, EEG F3-REF, EEG F4-...</td>\n",
       "    </tr>\n",
       "  </tbody>\n",
       "</table>\n",
       "</div>"
      ],
      "text/plain": [
       "                                                file freq time  \\\n",
       "0  train/03_tcp_ar_a/028/00002886/s006_2011_03_08...  256  826   \n",
       "1  train/03_tcp_ar_a/028/00002886/s006_2011_03_08...  256  601   \n",
       "2  train/03_tcp_ar_a/028/00002886/s006_2011_03_08...  256  333   \n",
       "3  train/03_tcp_ar_a/029/00002991/s004_2010_04_26...  256  601   \n",
       "4  train/03_tcp_ar_a/029/00002991/s005_2010_04_27...  256  601   \n",
       "\n",
       "                                             montage  \n",
       "0  [EEG FP1-REF, EEG FP2-REF, EEG F3-REF, EEG F4-...  \n",
       "1  [EEG FP1-REF, EEG FP2-REF, EEG F3-REF, EEG F4-...  \n",
       "2  [EEG FP1-REF, EEG FP2-REF, EEG F3-REF, EEG F4-...  \n",
       "3  [EEG FP1-REF, EEG FP2-REF, EEG F3-REF, EEG F4-...  \n",
       "4  [EEG FP1-REF, EEG FP2-REF, EEG F3-REF, EEG F4-...  "
      ]
     },
     "execution_count": 13,
     "metadata": {},
     "output_type": "execute_result"
    }
   ],
   "source": [
    "n.head()"
   ]
  },
  {
   "cell_type": "code",
   "execution_count": 20,
   "metadata": {},
   "outputs": [
    {
     "name": "stderr",
     "output_type": "stream",
     "text": [
      "/home/davi/anaconda3/lib/python3.7/site-packages/ipykernel_launcher.py:2: FutureWarning: The signature of `Series.to_csv` was aligned to that of `DataFrame.to_csv`. Note that the order of arguments changed, and the new one has 'sep' in first place, for which \"edfs.csv\" is not a valid value. The old order will cease to be supported in a future version. Please refer to the documentation for `DataFrame.to_csv` when updating your function calls.\n",
      "  \n",
      "/home/davi/anaconda3/lib/python3.7/site-packages/ipykernel_launcher.py:2: FutureWarning: The signature of `Series.to_csv` was aligned to that of `DataFrame.to_csv`, and argument 'header' will change its default value from False to True: please pass an explicit value to suppress this warning.\n",
      "  \n"
     ]
    },
    {
     "ename": "ValueError",
     "evalue": "Invalid file path or buffer object type: <class 'pandas.core.series.Series'>",
     "output_type": "error",
     "traceback": [
      "\u001b[0;31m---------------------------------------------------------------------------\u001b[0m",
      "\u001b[0;31mValueError\u001b[0m                                Traceback (most recent call last)",
      "\u001b[0;32m<ipython-input-20-11fcba28f4df>\u001b[0m in \u001b[0;36m<module>\u001b[0;34m\u001b[0m\n\u001b[1;32m      1\u001b[0m \u001b[0mrsl\u001b[0m \u001b[0;34m=\u001b[0m \u001b[0mpd\u001b[0m\u001b[0;34m.\u001b[0m\u001b[0mconcat\u001b[0m\u001b[0;34m(\u001b[0m\u001b[0;34m[\u001b[0m\u001b[0mw\u001b[0m\u001b[0;34m[\u001b[0m\u001b[0;34m'file'\u001b[0m\u001b[0;34m]\u001b[0m\u001b[0;34m,\u001b[0m\u001b[0mn\u001b[0m\u001b[0;34m[\u001b[0m\u001b[0;34m'file'\u001b[0m\u001b[0;34m]\u001b[0m\u001b[0;34m]\u001b[0m\u001b[0;34m)\u001b[0m\u001b[0;34m\u001b[0m\u001b[0;34m\u001b[0m\u001b[0m\n\u001b[0;32m----> 2\u001b[0;31m \u001b[0mrsl\u001b[0m\u001b[0;34m.\u001b[0m\u001b[0mto_csv\u001b[0m\u001b[0;34m(\u001b[0m\u001b[0mrsl\u001b[0m\u001b[0;34m,\u001b[0m\u001b[0;34m'edfs.csv'\u001b[0m\u001b[0;34m)\u001b[0m\u001b[0;34m\u001b[0m\u001b[0;34m\u001b[0m\u001b[0m\n\u001b[0m",
      "\u001b[0;32m~/anaconda3/lib/python3.7/site-packages/pandas/core/series.py\u001b[0m in \u001b[0;36mto_csv\u001b[0;34m(self, *args, **kwargs)\u001b[0m\n\u001b[1;32m   4680\u001b[0m             )\n\u001b[1;32m   4681\u001b[0m             \u001b[0mkwargs\u001b[0m\u001b[0;34m[\u001b[0m\u001b[0;34m\"header\"\u001b[0m\u001b[0;34m]\u001b[0m \u001b[0;34m=\u001b[0m \u001b[0;32mFalse\u001b[0m  \u001b[0;31m# Backwards compatibility.\u001b[0m\u001b[0;34m\u001b[0m\u001b[0;34m\u001b[0m\u001b[0m\n\u001b[0;32m-> 4682\u001b[0;31m         \u001b[0;32mreturn\u001b[0m \u001b[0mself\u001b[0m\u001b[0;34m.\u001b[0m\u001b[0mto_frame\u001b[0m\u001b[0;34m(\u001b[0m\u001b[0;34m)\u001b[0m\u001b[0;34m.\u001b[0m\u001b[0mto_csv\u001b[0m\u001b[0;34m(\u001b[0m\u001b[0;34m**\u001b[0m\u001b[0mkwargs\u001b[0m\u001b[0;34m)\u001b[0m\u001b[0;34m\u001b[0m\u001b[0;34m\u001b[0m\u001b[0m\n\u001b[0m\u001b[1;32m   4683\u001b[0m \u001b[0;34m\u001b[0m\u001b[0m\n\u001b[1;32m   4684\u001b[0m     \u001b[0;34m@\u001b[0m\u001b[0mAppender\u001b[0m\u001b[0;34m(\u001b[0m\u001b[0mgeneric\u001b[0m\u001b[0;34m.\u001b[0m\u001b[0m_shared_docs\u001b[0m\u001b[0;34m[\u001b[0m\u001b[0;34m\"isna\"\u001b[0m\u001b[0;34m]\u001b[0m \u001b[0;34m%\u001b[0m \u001b[0m_shared_doc_kwargs\u001b[0m\u001b[0;34m)\u001b[0m\u001b[0;34m\u001b[0m\u001b[0;34m\u001b[0m\u001b[0m\n",
      "\u001b[0;32m~/anaconda3/lib/python3.7/site-packages/pandas/core/generic.py\u001b[0m in \u001b[0;36mto_csv\u001b[0;34m(self, path_or_buf, sep, na_rep, float_format, columns, header, index, index_label, mode, encoding, compression, quoting, quotechar, line_terminator, chunksize, date_format, doublequote, escapechar, decimal)\u001b[0m\n\u001b[1;32m   3224\u001b[0m             \u001b[0mdoublequote\u001b[0m\u001b[0;34m=\u001b[0m\u001b[0mdoublequote\u001b[0m\u001b[0;34m,\u001b[0m\u001b[0;34m\u001b[0m\u001b[0;34m\u001b[0m\u001b[0m\n\u001b[1;32m   3225\u001b[0m             \u001b[0mescapechar\u001b[0m\u001b[0;34m=\u001b[0m\u001b[0mescapechar\u001b[0m\u001b[0;34m,\u001b[0m\u001b[0;34m\u001b[0m\u001b[0;34m\u001b[0m\u001b[0m\n\u001b[0;32m-> 3226\u001b[0;31m             \u001b[0mdecimal\u001b[0m\u001b[0;34m=\u001b[0m\u001b[0mdecimal\u001b[0m\u001b[0;34m,\u001b[0m\u001b[0;34m\u001b[0m\u001b[0;34m\u001b[0m\u001b[0m\n\u001b[0m\u001b[1;32m   3227\u001b[0m         )\n\u001b[1;32m   3228\u001b[0m         \u001b[0mformatter\u001b[0m\u001b[0;34m.\u001b[0m\u001b[0msave\u001b[0m\u001b[0;34m(\u001b[0m\u001b[0;34m)\u001b[0m\u001b[0;34m\u001b[0m\u001b[0;34m\u001b[0m\u001b[0m\n",
      "\u001b[0;32m~/anaconda3/lib/python3.7/site-packages/pandas/io/formats/csvs.py\u001b[0m in \u001b[0;36m__init__\u001b[0;34m(self, obj, path_or_buf, sep, na_rep, float_format, cols, header, index, index_label, mode, encoding, compression, quoting, line_terminator, chunksize, quotechar, date_format, doublequote, escapechar, decimal)\u001b[0m\n\u001b[1;32m     60\u001b[0m \u001b[0;34m\u001b[0m\u001b[0m\n\u001b[1;32m     61\u001b[0m         self.path_or_buf, _, _, _ = get_filepath_or_buffer(\n\u001b[0;32m---> 62\u001b[0;31m             \u001b[0mpath_or_buf\u001b[0m\u001b[0;34m,\u001b[0m \u001b[0mencoding\u001b[0m\u001b[0;34m=\u001b[0m\u001b[0mencoding\u001b[0m\u001b[0;34m,\u001b[0m \u001b[0mcompression\u001b[0m\u001b[0;34m=\u001b[0m\u001b[0mcompression\u001b[0m\u001b[0;34m,\u001b[0m \u001b[0mmode\u001b[0m\u001b[0;34m=\u001b[0m\u001b[0mmode\u001b[0m\u001b[0;34m\u001b[0m\u001b[0;34m\u001b[0m\u001b[0m\n\u001b[0m\u001b[1;32m     63\u001b[0m         )\n\u001b[1;32m     64\u001b[0m         \u001b[0mself\u001b[0m\u001b[0;34m.\u001b[0m\u001b[0msep\u001b[0m \u001b[0;34m=\u001b[0m \u001b[0msep\u001b[0m\u001b[0;34m\u001b[0m\u001b[0;34m\u001b[0m\u001b[0m\n",
      "\u001b[0;32m~/anaconda3/lib/python3.7/site-packages/pandas/io/common.py\u001b[0m in \u001b[0;36mget_filepath_or_buffer\u001b[0;34m(filepath_or_buffer, encoding, compression, mode)\u001b[0m\n\u001b[1;32m    222\u001b[0m     \u001b[0;32mif\u001b[0m \u001b[0;32mnot\u001b[0m \u001b[0mis_file_like\u001b[0m\u001b[0;34m(\u001b[0m\u001b[0mfilepath_or_buffer\u001b[0m\u001b[0;34m)\u001b[0m\u001b[0;34m:\u001b[0m\u001b[0;34m\u001b[0m\u001b[0;34m\u001b[0m\u001b[0m\n\u001b[1;32m    223\u001b[0m         \u001b[0mmsg\u001b[0m \u001b[0;34m=\u001b[0m \u001b[0;34m\"Invalid file path or buffer object type: {_type}\"\u001b[0m\u001b[0;34m\u001b[0m\u001b[0;34m\u001b[0m\u001b[0m\n\u001b[0;32m--> 224\u001b[0;31m         \u001b[0;32mraise\u001b[0m \u001b[0mValueError\u001b[0m\u001b[0;34m(\u001b[0m\u001b[0mmsg\u001b[0m\u001b[0;34m.\u001b[0m\u001b[0mformat\u001b[0m\u001b[0;34m(\u001b[0m\u001b[0m_type\u001b[0m\u001b[0;34m=\u001b[0m\u001b[0mtype\u001b[0m\u001b[0;34m(\u001b[0m\u001b[0mfilepath_or_buffer\u001b[0m\u001b[0;34m)\u001b[0m\u001b[0;34m)\u001b[0m\u001b[0;34m)\u001b[0m\u001b[0;34m\u001b[0m\u001b[0;34m\u001b[0m\u001b[0m\n\u001b[0m\u001b[1;32m    225\u001b[0m \u001b[0;34m\u001b[0m\u001b[0m\n\u001b[1;32m    226\u001b[0m     \u001b[0;32mreturn\u001b[0m \u001b[0mfilepath_or_buffer\u001b[0m\u001b[0;34m,\u001b[0m \u001b[0;32mNone\u001b[0m\u001b[0;34m,\u001b[0m \u001b[0mcompression\u001b[0m\u001b[0;34m,\u001b[0m \u001b[0;32mFalse\u001b[0m\u001b[0;34m\u001b[0m\u001b[0;34m\u001b[0m\u001b[0m\n",
      "\u001b[0;31mValueError\u001b[0m: Invalid file path or buffer object type: <class 'pandas.core.series.Series'>"
     ]
    }
   ],
   "source": [
    "rsl = pd.concat([w['file'],n['file']])\n",
    "rsl.to_csv(rsl,'edfs.csv')"
   ]
  },
  {
   "cell_type": "code",
   "execution_count": 8,
   "metadata": {},
   "outputs": [
    {
     "data": {
      "text/plain": [
       "(array(['CPSZ', 'FNSZ', 'GNSZ'], dtype=object), array([ 64, 189,  19]))"
      ]
     },
     "execution_count": 8,
     "metadata": {},
     "output_type": "execute_result"
    }
   ],
   "source": []
  }
 ],
 "metadata": {
  "kernelspec": {
   "display_name": "Python 3",
   "language": "python",
   "name": "python3"
  },
  "language_info": {
   "codemirror_mode": {
    "name": "ipython",
    "version": 3
   },
   "file_extension": ".py",
   "mimetype": "text/x-python",
   "name": "python",
   "nbconvert_exporter": "python",
   "pygments_lexer": "ipython3",
   "version": "3.7.4"
  }
 },
 "nbformat": 4,
 "nbformat_minor": 2
}
