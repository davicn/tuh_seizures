{
 "cells": [
  {
   "cell_type": "markdown",
   "metadata": {},
   "source": [
    "### Trabalhando com pasta dev_test/01_tcp_ar"
   ]
  },
  {
   "cell_type": "code",
   "execution_count": 1,
   "metadata": {},
   "outputs": [],
   "source": [
    "import numpy as np\n",
    "import pandas as pd \n",
    "import os"
   ]
  },
  {
   "cell_type": "code",
   "execution_count": 3,
   "metadata": {},
   "outputs": [
    {
     "data": {
      "text/plain": [
       "'/home/pib3/Projetos/tuh_eeg_seizures/dev_test/01_tcp_ar/'"
      ]
     },
     "execution_count": 3,
     "metadata": {},
     "output_type": "execute_result"
    }
   ],
   "source": [
    "path_root = os.getcwd()[:37] + 'dev_test/01_tcp_ar/'\n",
    "path_root"
   ]
  },
  {
   "cell_type": "code",
   "execution_count": 4,
   "metadata": {},
   "outputs": [],
   "source": [
    "with open(path_root+'files.txt', 'r') as f:\n",
    "    rows = f.readlines()"
   ]
  },
  {
   "cell_type": "code",
   "execution_count": 5,
   "metadata": {},
   "outputs": [
    {
     "name": "stdout",
     "output_type": "stream",
     "text": [
      "185\n",
      "185\n"
     ]
    }
   ],
   "source": [
    "# Separando pacientes\n",
    "# e anotações de pacientes\n",
    "\n",
    "pacientes = []\n",
    "txt = []\n",
    "for i in range(len(rows)):\n",
    "    if '/' in rows[i]:\n",
    "        pacientes.append(rows[i].replace('\\n',''))\n",
    "    if '.txt' in rows[i]:\n",
    "        txt.append(rows[i].replace('\\n',''))\n",
    "        \n",
    "print(len(pacientes))\n",
    "print(len(txt))"
   ]
  },
  {
   "cell_type": "code",
   "execution_count": 6,
   "metadata": {},
   "outputs": [
    {
     "data": {
      "text/plain": [
       "185"
      ]
     },
     "execution_count": 6,
     "metadata": {},
     "output_type": "execute_result"
    }
   ],
   "source": [
    "# Separando arquivos .edf por paciente\n",
    "edf = []\n",
    "\n",
    "for i in range(len(pacientes)):\n",
    "    aux_str = pacientes[i][4:17].replace('/','_')\n",
    "    aux_list = []\n",
    "    for ii in range(len(rows)):\n",
    "        if aux_str in rows[ii] and '.edf' in rows[ii]:\n",
    "            aux_list.append(rows[ii].replace('\\n',''))\n",
    "    edf.append(aux_list)\n",
    "len(edf)"
   ]
  },
  {
   "cell_type": "code",
   "execution_count": 7,
   "metadata": {},
   "outputs": [
    {
     "data": {
      "text/plain": [
       "185"
      ]
     },
     "execution_count": 7,
     "metadata": {},
     "output_type": "execute_result"
    }
   ],
   "source": [
    "# Separando arquivos .tse por paciente\n",
    "\n",
    "tse = []\n",
    "\n",
    "for i in range(len(pacientes)):\n",
    "    aux_str = pacientes[i][4:17].replace('/','_')\n",
    "    aux_list = []\n",
    "    for ii in range(len(rows)):\n",
    "        if aux_str in rows[ii] and '.tse\\n' in rows[ii]:\n",
    "            aux_list.append(rows[ii].replace('\\n',''))\n",
    "    tse.append(aux_list)\n",
    "len(tse)"
   ]
  },
  {
   "cell_type": "code",
   "execution_count": 9,
   "metadata": {},
   "outputs": [
    {
     "data": {
      "text/plain": [
       "185"
      ]
     },
     "execution_count": 9,
     "metadata": {},
     "output_type": "execute_result"
    }
   ],
   "source": [
    "# Separando arquivos .lbl por paciente\n",
    "\n",
    "lbl = []\n",
    "\n",
    "for i in range(len(pacientes)):\n",
    "    aux_str = pacientes[i][4:17].replace('/','_')\n",
    "    aux_list = []\n",
    "    for ii in range(len(rows)):\n",
    "        if aux_str in rows[ii] and '.lbl\\n' in rows[ii]:\n",
    "            aux_list.append(rows[ii].replace('\\n',''))\n",
    "    lbl.append(aux_list)\n",
    "len(lbl)"
   ]
  },
  {
   "cell_type": "code",
   "execution_count": 15,
   "metadata": {},
   "outputs": [],
   "source": [
    "# Gerando .json com informações\n",
    "\n",
    "import json\n",
    "\n",
    "D = {'Pacientes':pacientes,'edf':edf,'tse':tse,'lbl':lbl}\n",
    "\n",
    "with open('data1.json', 'w') as fp:\n",
    "    json.dump(D,fp)"
   ]
  }
 ],
 "metadata": {
  "kernelspec": {
   "display_name": "Python 3",
   "language": "python",
   "name": "python3"
  },
  "language_info": {
   "codemirror_mode": {
    "name": "ipython",
    "version": 3
   },
   "file_extension": ".py",
   "mimetype": "text/x-python",
   "name": "python",
   "nbconvert_exporter": "python",
   "pygments_lexer": "ipython3",
   "version": "3.7.3"
  },
  "toc": {
   "base_numbering": 1,
   "nav_menu": {},
   "number_sections": true,
   "sideBar": true,
   "skip_h1_title": false,
   "title_cell": "Table of Contents",
   "title_sidebar": "Contents",
   "toc_cell": false,
   "toc_position": {},
   "toc_section_display": true,
   "toc_window_display": false
  },
  "varInspector": {
   "cols": {
    "lenName": 16,
    "lenType": 16,
    "lenVar": 40
   },
   "kernels_config": {
    "python": {
     "delete_cmd_postfix": "",
     "delete_cmd_prefix": "del ",
     "library": "var_list.py",
     "varRefreshCmd": "print(var_dic_list())"
    },
    "r": {
     "delete_cmd_postfix": ") ",
     "delete_cmd_prefix": "rm(",
     "library": "var_list.r",
     "varRefreshCmd": "cat(var_dic_list()) "
    }
   },
   "types_to_exclude": [
    "module",
    "function",
    "builtin_function_or_method",
    "instance",
    "_Feature"
   ],
   "window_display": false
  }
 },
 "nbformat": 4,
 "nbformat_minor": 2
}
