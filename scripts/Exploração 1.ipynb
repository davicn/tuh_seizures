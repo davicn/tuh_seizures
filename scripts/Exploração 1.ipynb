{
 "cells": [
  {
   "cell_type": "code",
   "execution_count": 1,
   "metadata": {},
   "outputs": [
    {
     "ename": "ValueError",
     "evalue": "Object arrays cannot be loaded when allow_pickle=False",
     "output_type": "error",
     "traceback": [
      "\u001b[0;31m---------------------------------------------------------------------------\u001b[0m",
      "\u001b[0;31mValueError\u001b[0m                                Traceback (most recent call last)",
      "\u001b[0;32m<ipython-input-1-ffbe8d757940>\u001b[0m in \u001b[0;36m<module>\u001b[0;34m\u001b[0m\n\u001b[1;32m      3\u001b[0m \u001b[0;34m\u001b[0m\u001b[0m\n\u001b[1;32m      4\u001b[0m \u001b[0;34m\u001b[0m\u001b[0m\n\u001b[0;32m----> 5\u001b[0;31m \u001b[0mw\u001b[0m \u001b[0;34m=\u001b[0m \u001b[0mpd\u001b[0m\u001b[0;34m.\u001b[0m\u001b[0mDataFrame\u001b[0m\u001b[0;34m(\u001b[0m\u001b[0mdata\u001b[0m\u001b[0;34m=\u001b[0m\u001b[0mnp\u001b[0m\u001b[0;34m.\u001b[0m\u001b[0mload\u001b[0m\u001b[0;34m(\u001b[0m\u001b[0;34m'train_seizure.npy'\u001b[0m\u001b[0;34m)\u001b[0m\u001b[0;34m,\u001b[0m\u001b[0mcolumns\u001b[0m\u001b[0;34m=\u001b[0m\u001b[0;34m[\u001b[0m\u001b[0;34m'file'\u001b[0m\u001b[0;34m,\u001b[0m\u001b[0;34m'begin'\u001b[0m\u001b[0;34m,\u001b[0m\u001b[0;34m'end'\u001b[0m\u001b[0;34m,\u001b[0m\u001b[0;34m'type'\u001b[0m\u001b[0;34m,\u001b[0m\u001b[0;34m'freq'\u001b[0m\u001b[0;34m,\u001b[0m\u001b[0;34m'time'\u001b[0m\u001b[0;34m,\u001b[0m\u001b[0;34m'montage'\u001b[0m\u001b[0;34m]\u001b[0m\u001b[0;34m)\u001b[0m\u001b[0;34m\u001b[0m\u001b[0;34m\u001b[0m\u001b[0m\n\u001b[0m\u001b[1;32m      6\u001b[0m \u001b[0mn\u001b[0m \u001b[0;34m=\u001b[0m \u001b[0mpd\u001b[0m\u001b[0;34m.\u001b[0m\u001b[0mDataFrame\u001b[0m\u001b[0;34m(\u001b[0m\u001b[0mdata\u001b[0m\u001b[0;34m=\u001b[0m\u001b[0mnp\u001b[0m\u001b[0;34m.\u001b[0m\u001b[0mload\u001b[0m\u001b[0;34m(\u001b[0m\u001b[0;34m'train_n_seizure.npy'\u001b[0m\u001b[0;34m)\u001b[0m\u001b[0;34m,\u001b[0m\u001b[0mcolumns\u001b[0m\u001b[0;34m=\u001b[0m\u001b[0;34m[\u001b[0m\u001b[0;34m'file'\u001b[0m\u001b[0;34m,\u001b[0m\u001b[0;34m'freq'\u001b[0m\u001b[0;34m,\u001b[0m\u001b[0;34m'time'\u001b[0m\u001b[0;34m,\u001b[0m\u001b[0;34m'montage'\u001b[0m\u001b[0;34m]\u001b[0m\u001b[0;34m)\u001b[0m\u001b[0;34m\u001b[0m\u001b[0;34m\u001b[0m\u001b[0m\n\u001b[1;32m      7\u001b[0m \u001b[0;31m#train_seizure.npy\u001b[0m\u001b[0;34m\u001b[0m\u001b[0;34m\u001b[0m\u001b[0;34m\u001b[0m\u001b[0m\n",
      "\u001b[0;32m~/anaconda3/lib/python3.7/site-packages/numpy/lib/npyio.py\u001b[0m in \u001b[0;36mload\u001b[0;34m(file, mmap_mode, allow_pickle, fix_imports, encoding)\u001b[0m\n\u001b[1;32m    451\u001b[0m             \u001b[0;32melse\u001b[0m\u001b[0;34m:\u001b[0m\u001b[0;34m\u001b[0m\u001b[0;34m\u001b[0m\u001b[0m\n\u001b[1;32m    452\u001b[0m                 return format.read_array(fid, allow_pickle=allow_pickle,\n\u001b[0;32m--> 453\u001b[0;31m                                          pickle_kwargs=pickle_kwargs)\n\u001b[0m\u001b[1;32m    454\u001b[0m         \u001b[0;32melse\u001b[0m\u001b[0;34m:\u001b[0m\u001b[0;34m\u001b[0m\u001b[0;34m\u001b[0m\u001b[0m\n\u001b[1;32m    455\u001b[0m             \u001b[0;31m# Try a pickle\u001b[0m\u001b[0;34m\u001b[0m\u001b[0;34m\u001b[0m\u001b[0;34m\u001b[0m\u001b[0m\n",
      "\u001b[0;32m~/anaconda3/lib/python3.7/site-packages/numpy/lib/format.py\u001b[0m in \u001b[0;36mread_array\u001b[0;34m(fp, allow_pickle, pickle_kwargs)\u001b[0m\n\u001b[1;32m    720\u001b[0m         \u001b[0;31m# The array contained Python objects. We need to unpickle the data.\u001b[0m\u001b[0;34m\u001b[0m\u001b[0;34m\u001b[0m\u001b[0;34m\u001b[0m\u001b[0m\n\u001b[1;32m    721\u001b[0m         \u001b[0;32mif\u001b[0m \u001b[0;32mnot\u001b[0m \u001b[0mallow_pickle\u001b[0m\u001b[0;34m:\u001b[0m\u001b[0;34m\u001b[0m\u001b[0;34m\u001b[0m\u001b[0m\n\u001b[0;32m--> 722\u001b[0;31m             raise ValueError(\"Object arrays cannot be loaded when \"\n\u001b[0m\u001b[1;32m    723\u001b[0m                              \"allow_pickle=False\")\n\u001b[1;32m    724\u001b[0m         \u001b[0;32mif\u001b[0m \u001b[0mpickle_kwargs\u001b[0m \u001b[0;32mis\u001b[0m \u001b[0;32mNone\u001b[0m\u001b[0;34m:\u001b[0m\u001b[0;34m\u001b[0m\u001b[0;34m\u001b[0m\u001b[0m\n",
      "\u001b[0;31mValueError\u001b[0m: Object arrays cannot be loaded when allow_pickle=False"
     ]
    }
   ],
   "source": [
    "import numpy as np\n",
    "import pandas as pd  \n",
    "\n",
    "\n",
    "w = pd.DataFrame(data=np.load('train_seizure.npy'),columns=['file','begin','end','type','freq','time','montage'])\n",
    "n = pd.DataFrame(data=np.load('train_n_seizure.npy'),columns=['file','freq','time','montage'])\n",
    "#train_seizure.npy\n",
    "print(w.shape)\n",
    "w.head()"
   ]
  },
  {
   "cell_type": "code",
   "execution_count": 102,
   "metadata": {},
   "outputs": [
    {
     "name": "stdout",
     "output_type": "stream",
     "text": [
      "(3730, 4)\n"
     ]
    },
    {
     "data": {
      "text/html": [
       "<div>\n",
       "<style scoped>\n",
       "    .dataframe tbody tr th:only-of-type {\n",
       "        vertical-align: middle;\n",
       "    }\n",
       "\n",
       "    .dataframe tbody tr th {\n",
       "        vertical-align: top;\n",
       "    }\n",
       "\n",
       "    .dataframe thead th {\n",
       "        text-align: right;\n",
       "    }\n",
       "</style>\n",
       "<table border=\"1\" class=\"dataframe\">\n",
       "  <thead>\n",
       "    <tr style=\"text-align: right;\">\n",
       "      <th></th>\n",
       "      <th>file</th>\n",
       "      <th>freq</th>\n",
       "      <th>time</th>\n",
       "      <th>montage</th>\n",
       "    </tr>\n",
       "  </thead>\n",
       "  <tbody>\n",
       "    <tr>\n",
       "      <th>0</th>\n",
       "      <td>train/01_tcp_ar/000/00000077/s003_2010_01_21/0...</td>\n",
       "      <td>250</td>\n",
       "      <td>1205</td>\n",
       "      <td>[EEG FP1-REF, EEG FP2-REF, EEG F3-REF, EEG F4-...</td>\n",
       "    </tr>\n",
       "    <tr>\n",
       "      <th>1</th>\n",
       "      <td>train/01_tcp_ar/002/00000254/s005_2010_11_15/0...</td>\n",
       "      <td>250</td>\n",
       "      <td>1442</td>\n",
       "      <td>[EEG FP1-REF, EEG FP2-REF, EEG F3-REF, EEG F4-...</td>\n",
       "    </tr>\n",
       "    <tr>\n",
       "      <th>2</th>\n",
       "      <td>train/01_tcp_ar/002/00000254/s006_2011_07_01/0...</td>\n",
       "      <td>250</td>\n",
       "      <td>1197</td>\n",
       "      <td>[EEG FP1-REF, EEG FP2-REF, EEG F3-REF, EEG F4-...</td>\n",
       "    </tr>\n",
       "    <tr>\n",
       "      <th>3</th>\n",
       "      <td>train/01_tcp_ar/002/00000254/s007_2013_03_25/0...</td>\n",
       "      <td>250</td>\n",
       "      <td>1244</td>\n",
       "      <td>[EEG FP1-REF, EEG FP2-REF, EEG F3-REF, EEG F4-...</td>\n",
       "    </tr>\n",
       "    <tr>\n",
       "      <th>4</th>\n",
       "      <td>train/01_tcp_ar/002/00000272/s007_2003_07_03/0...</td>\n",
       "      <td>400</td>\n",
       "      <td>194</td>\n",
       "      <td>[EEG FP1-REF, EEG FP2-REF, EEG F3-REF, EEG F4-...</td>\n",
       "    </tr>\n",
       "  </tbody>\n",
       "</table>\n",
       "</div>"
      ],
      "text/plain": [
       "                                                file freq  time  \\\n",
       "0  train/01_tcp_ar/000/00000077/s003_2010_01_21/0...  250  1205   \n",
       "1  train/01_tcp_ar/002/00000254/s005_2010_11_15/0...  250  1442   \n",
       "2  train/01_tcp_ar/002/00000254/s006_2011_07_01/0...  250  1197   \n",
       "3  train/01_tcp_ar/002/00000254/s007_2013_03_25/0...  250  1244   \n",
       "4  train/01_tcp_ar/002/00000272/s007_2003_07_03/0...  400   194   \n",
       "\n",
       "                                             montage  \n",
       "0  [EEG FP1-REF, EEG FP2-REF, EEG F3-REF, EEG F4-...  \n",
       "1  [EEG FP1-REF, EEG FP2-REF, EEG F3-REF, EEG F4-...  \n",
       "2  [EEG FP1-REF, EEG FP2-REF, EEG F3-REF, EEG F4-...  \n",
       "3  [EEG FP1-REF, EEG FP2-REF, EEG F3-REF, EEG F4-...  \n",
       "4  [EEG FP1-REF, EEG FP2-REF, EEG F3-REF, EEG F4-...  "
      ]
     },
     "execution_count": 102,
     "metadata": {},
     "output_type": "execute_result"
    }
   ],
   "source": [
    "print(n.shape)\n",
    "n.head()"
   ]
  },
  {
   "cell_type": "code",
   "execution_count": 103,
   "metadata": {},
   "outputs": [
    {
     "name": "stdout",
     "output_type": "stream",
     "text": [
      "[250 256 400 512 1000]\n",
      "[ 825 1217  276   16   36]\n",
      "[250 256 400 512 1000]\n",
      "[ 687 2522  400   82   39]\n"
     ]
    },
    {
     "data": {
      "text/plain": [
       "'\\nSerão usados .edf com\\nfreq amostra de 256hz\\n'"
      ]
     },
     "execution_count": 103,
     "metadata": {},
     "output_type": "execute_result"
    }
   ],
   "source": [
    "ind1, ct1 = np.unique(w['freq'],return_counts=True)\n",
    "ind2, ct2 = np.unique(n['freq'],return_counts=True)\n",
    "print(ind1)\n",
    "print(ct1)\n",
    "print(ind2)\n",
    "print(ct2)\n",
    "\n",
    "######################\n",
    "'''\n",
    "Serão usados .edf com\n",
    "freq amostra de 256hz\n",
    "'''"
   ]
  },
  {
   "cell_type": "code",
   "execution_count": 104,
   "metadata": {},
   "outputs": [
    {
     "name": "stdout",
     "output_type": "stream",
     "text": [
      "(1217, 7)\n",
      "(2522, 4)\n"
     ]
    }
   ],
   "source": [
    "w = w[w['freq']==256]\n",
    "n = n[n['freq']==256]\n",
    "w.index = np.arange(len(w))\n",
    "n.index = np.arange(len(n))\n",
    "\n",
    "print(w.shape)\n",
    "print(n.shape)"
   ]
  },
  {
   "cell_type": "code",
   "execution_count": 105,
   "metadata": {},
   "outputs": [
    {
     "name": "stdout",
     "output_type": "stream",
     "text": [
      "26\n",
      "33\n",
      "[ 23  32   3 114  11 197  90  41 204   8   4 272  20  11  11  38   4  17\n",
      "  16   4   1  33  17  43   1   2]\n",
      "[  6  15 154   1 349 100 105  85   3  36   3   1 397  91   6 165   1 209\n",
      "   4 144  20 372  56  31  21   5   1  29  55  32   7   5  13]\n"
     ]
    }
   ],
   "source": [
    "ind1, ct1 = np.unique(w['montage'],return_counts=True)\n",
    "ind2, ct2 = np.unique(n['montage'],return_counts=True)\n",
    "\n",
    "print(len(ind1))\n",
    "print(len(ind2))\n",
    "print(ct1)\n",
    "print(ct2)"
   ]
  },
  {
   "cell_type": "code",
   "execution_count": 106,
   "metadata": {},
   "outputs": [],
   "source": [
    "aux_ind1=[]\n",
    "aux_ind2=[]\n",
    "\n",
    "for i in range(len(ind1)):\n",
    "    if 'EMG-REF' in ind1[i]:\n",
    "        aux_ind1.append(i)\n",
    "        \n",
    "for i in range(len(ind2)):\n",
    "    if 'EMG-REF' in ind2[i]:\n",
    "        aux_ind2.append(i)"
   ]
  },
  {
   "cell_type": "code",
   "execution_count": 107,
   "metadata": {},
   "outputs": [
    {
     "name": "stdout",
     "output_type": "stream",
     "text": [
      "[272  20  11  11   4  17  16   1  33  17  43   1   2]\n",
      "[165   1 209   4 144  20  56  31   1  29  55  32   7   5]\n"
     ]
    }
   ],
   "source": [
    "print(ct1[aux_ind1])\n",
    "print(ct2[aux_ind2])"
   ]
  },
  {
   "cell_type": "code",
   "execution_count": 108,
   "metadata": {},
   "outputs": [
    {
     "name": "stdout",
     "output_type": "stream",
     "text": [
      "34 34\n",
      "True\n",
      "EEG FP1-REF EEG FP1-REF\n",
      "EEG FP2-REF EEG FP2-REF\n",
      "EEG F3-REF EEG F3-REF\n",
      "EEG F4-REF EEG F4-REF\n",
      "EEG C3-REF EEG C3-REF\n",
      "EEG C4-REF EEG C4-REF\n",
      "EEG P3-REF EEG P3-REF\n",
      "EEG P4-REF EEG P4-REF\n",
      "EEG O1-REF EEG O1-REF\n",
      "EEG O2-REF EEG O2-REF\n",
      "EEG F7-REF EEG F7-REF\n",
      "EEG F8-REF EEG F8-REF\n",
      "EEG T3-REF EEG T3-REF\n",
      "EEG T4-REF EEG T4-REF\n",
      "EEG T5-REF EEG T5-REF\n",
      "EEG T6-REF EEG T6-REF\n",
      "EEG T1-REF EEG T1-REF\n",
      "EEG T2-REF EEG T2-REF\n",
      "EEG FZ-REF EEG FZ-REF\n",
      "EEG CZ-REF EEG CZ-REF\n",
      "EEG PZ-REF EEG PZ-REF\n",
      "EEG EKG1-REF EEG EKG1-REF\n",
      "EEG C3P-REF EEG C3P-REF\n",
      "EEG C4P-REF EEG C4P-REF\n",
      "EEG SP1-REF EEG SP1-REF\n",
      "EEG SP2-REF EEG SP2-REF\n",
      "EMG-REF EMG-REF\n",
      "EEG 29-REF EEG 29-REF\n",
      "EEG 30-REF EEG 30-REF\n",
      "EEG 31-REF EEG 31-REF\n",
      "EEG 32-REF EEG 32-REF\n",
      "IBI IBI\n",
      "BURSTS BURSTS\n",
      "SUPPR SUPPR\n"
     ]
    }
   ],
   "source": [
    "print(len(ind1[11]),len(ind2[15]))\n",
    "print(len(ind1[11])==len(ind2[15]))\n",
    "for i in range(len(ind1[11])):\n",
    "    print(ind1[11][i],ind2[15][i])"
   ]
  },
  {
   "cell_type": "code",
   "execution_count": 109,
   "metadata": {},
   "outputs": [
    {
     "name": "stdout",
     "output_type": "stream",
     "text": [
      "['EEG FP1-REF', 'EEG FP2-REF', 'EEG F3-REF', 'EEG F4-REF', 'EEG C3-REF', 'EEG C4-REF', 'EEG P3-REF', 'EEG P4-REF', 'EEG O1-REF', 'EEG O2-REF', 'EEG F7-REF', 'EEG F8-REF', 'EEG T3-REF', 'EEG T4-REF', 'EEG T5-REF', 'EEG T6-REF', 'EEG T1-REF', 'EEG T2-REF', 'EEG FZ-REF', 'EEG CZ-REF', 'EEG PZ-REF', 'EEG EKG1-REF', 'EEG C3P-REF', 'EEG C4P-REF', 'EEG SP1-REF', 'EEG SP2-REF', 'EMG-REF', 'EEG 29-REF', 'EEG 30-REF', 'EEG 31-REF', 'EEG 32-REF', 'IBI', 'BURSTS', 'SUPPR']\n"
     ]
    }
   ],
   "source": [
    "print(ind1[11])"
   ]
  },
  {
   "cell_type": "code",
   "execution_count": 110,
   "metadata": {},
   "outputs": [],
   "source": [
    "index_w = []\n",
    "index_n = []\n",
    "\n",
    "for i in range(len(w)):\n",
    "    if list(w['montage'])[i]==ind1[11]:\n",
    "        index_w.append(i)\n",
    "\n",
    "for i in range(len(n)):\n",
    "    if list(n['montage'])[i]==ind1[11]:\n",
    "        index_n.append(i)"
   ]
  },
  {
   "cell_type": "code",
   "execution_count": 111,
   "metadata": {},
   "outputs": [],
   "source": [
    "w = w.iloc[index_w,:]\n",
    "n = n.iloc[index_n,:]\n",
    "\n",
    "w.index = np.arange(len(w))\n",
    "n.index = np.arange(len(n))"
   ]
  },
  {
   "cell_type": "code",
   "execution_count": 112,
   "metadata": {},
   "outputs": [
    {
     "data": {
      "text/html": [
       "<div>\n",
       "<style scoped>\n",
       "    .dataframe tbody tr th:only-of-type {\n",
       "        vertical-align: middle;\n",
       "    }\n",
       "\n",
       "    .dataframe tbody tr th {\n",
       "        vertical-align: top;\n",
       "    }\n",
       "\n",
       "    .dataframe thead th {\n",
       "        text-align: right;\n",
       "    }\n",
       "</style>\n",
       "<table border=\"1\" class=\"dataframe\">\n",
       "  <thead>\n",
       "    <tr style=\"text-align: right;\">\n",
       "      <th></th>\n",
       "      <th>file</th>\n",
       "      <th>begin</th>\n",
       "      <th>end</th>\n",
       "      <th>type</th>\n",
       "      <th>freq</th>\n",
       "      <th>time</th>\n",
       "      <th>montage</th>\n",
       "    </tr>\n",
       "  </thead>\n",
       "  <tbody>\n",
       "    <tr>\n",
       "      <th>0</th>\n",
       "      <td>train/03_tcp_ar_a/029/00002991/s004_2010_04_26...</td>\n",
       "      <td>86.9922</td>\n",
       "      <td>115.207</td>\n",
       "      <td>FNSZ</td>\n",
       "      <td>256</td>\n",
       "      <td>391</td>\n",
       "      <td>[EEG FP1-REF, EEG FP2-REF, EEG F3-REF, EEG F4-...</td>\n",
       "    </tr>\n",
       "    <tr>\n",
       "      <th>1</th>\n",
       "      <td>train/03_tcp_ar_a/029/00002991/s004_2010_04_26...</td>\n",
       "      <td>189.973</td>\n",
       "      <td>209.109</td>\n",
       "      <td>FNSZ</td>\n",
       "      <td>256</td>\n",
       "      <td>391</td>\n",
       "      <td>[EEG FP1-REF, EEG FP2-REF, EEG F3-REF, EEG F4-...</td>\n",
       "    </tr>\n",
       "    <tr>\n",
       "      <th>2</th>\n",
       "      <td>train/03_tcp_ar_a/029/00002991/s004_2010_04_26...</td>\n",
       "      <td>338.949</td>\n",
       "      <td>358.004</td>\n",
       "      <td>FNSZ</td>\n",
       "      <td>256</td>\n",
       "      <td>391</td>\n",
       "      <td>[EEG FP1-REF, EEG FP2-REF, EEG F3-REF, EEG F4-...</td>\n",
       "    </tr>\n",
       "    <tr>\n",
       "      <th>3</th>\n",
       "      <td>train/03_tcp_ar_a/029/00002991/s004_2010_04_26...</td>\n",
       "      <td>20.9375</td>\n",
       "      <td>47.2656</td>\n",
       "      <td>FNSZ</td>\n",
       "      <td>256</td>\n",
       "      <td>603</td>\n",
       "      <td>[EEG FP1-REF, EEG FP2-REF, EEG F3-REF, EEG F4-...</td>\n",
       "    </tr>\n",
       "    <tr>\n",
       "      <th>4</th>\n",
       "      <td>train/03_tcp_ar_a/029/00002991/s004_2010_04_26...</td>\n",
       "      <td>109.027</td>\n",
       "      <td>136.789</td>\n",
       "      <td>FNSZ</td>\n",
       "      <td>256</td>\n",
       "      <td>603</td>\n",
       "      <td>[EEG FP1-REF, EEG FP2-REF, EEG F3-REF, EEG F4-...</td>\n",
       "    </tr>\n",
       "    <tr>\n",
       "      <th>5</th>\n",
       "      <td>train/03_tcp_ar_a/029/00002991/s004_2010_04_26...</td>\n",
       "      <td>184.012</td>\n",
       "      <td>211.906</td>\n",
       "      <td>FNSZ</td>\n",
       "      <td>256</td>\n",
       "      <td>603</td>\n",
       "      <td>[EEG FP1-REF, EEG FP2-REF, EEG F3-REF, EEG F4-...</td>\n",
       "    </tr>\n",
       "    <tr>\n",
       "      <th>6</th>\n",
       "      <td>train/03_tcp_ar_a/029/00002991/s004_2010_04_26...</td>\n",
       "      <td>290.012</td>\n",
       "      <td>322.676</td>\n",
       "      <td>FNSZ</td>\n",
       "      <td>256</td>\n",
       "      <td>603</td>\n",
       "      <td>[EEG FP1-REF, EEG FP2-REF, EEG F3-REF, EEG F4-...</td>\n",
       "    </tr>\n",
       "    <tr>\n",
       "      <th>7</th>\n",
       "      <td>train/03_tcp_ar_a/029/00002991/s004_2010_04_26...</td>\n",
       "      <td>388.012</td>\n",
       "      <td>414.18</td>\n",
       "      <td>FNSZ</td>\n",
       "      <td>256</td>\n",
       "      <td>603</td>\n",
       "      <td>[EEG FP1-REF, EEG FP2-REF, EEG F3-REF, EEG F4-...</td>\n",
       "    </tr>\n",
       "    <tr>\n",
       "      <th>8</th>\n",
       "      <td>train/03_tcp_ar_a/029/00002991/s004_2010_04_26...</td>\n",
       "      <td>432.012</td>\n",
       "      <td>446.062</td>\n",
       "      <td>FNSZ</td>\n",
       "      <td>256</td>\n",
       "      <td>603</td>\n",
       "      <td>[EEG FP1-REF, EEG FP2-REF, EEG F3-REF, EEG F4-...</td>\n",
       "    </tr>\n",
       "    <tr>\n",
       "      <th>9</th>\n",
       "      <td>train/03_tcp_ar_a/029/00002991/s004_2010_04_26...</td>\n",
       "      <td>547.012</td>\n",
       "      <td>560.012</td>\n",
       "      <td>FNSZ</td>\n",
       "      <td>256</td>\n",
       "      <td>603</td>\n",
       "      <td>[EEG FP1-REF, EEG FP2-REF, EEG F3-REF, EEG F4-...</td>\n",
       "    </tr>\n",
       "  </tbody>\n",
       "</table>\n",
       "</div>"
      ],
      "text/plain": [
       "                                                file    begin      end  type  \\\n",
       "0  train/03_tcp_ar_a/029/00002991/s004_2010_04_26...  86.9922  115.207  FNSZ   \n",
       "1  train/03_tcp_ar_a/029/00002991/s004_2010_04_26...  189.973  209.109  FNSZ   \n",
       "2  train/03_tcp_ar_a/029/00002991/s004_2010_04_26...  338.949  358.004  FNSZ   \n",
       "3  train/03_tcp_ar_a/029/00002991/s004_2010_04_26...  20.9375  47.2656  FNSZ   \n",
       "4  train/03_tcp_ar_a/029/00002991/s004_2010_04_26...  109.027  136.789  FNSZ   \n",
       "5  train/03_tcp_ar_a/029/00002991/s004_2010_04_26...  184.012  211.906  FNSZ   \n",
       "6  train/03_tcp_ar_a/029/00002991/s004_2010_04_26...  290.012  322.676  FNSZ   \n",
       "7  train/03_tcp_ar_a/029/00002991/s004_2010_04_26...  388.012   414.18  FNSZ   \n",
       "8  train/03_tcp_ar_a/029/00002991/s004_2010_04_26...  432.012  446.062  FNSZ   \n",
       "9  train/03_tcp_ar_a/029/00002991/s004_2010_04_26...  547.012  560.012  FNSZ   \n",
       "\n",
       "  freq time                                            montage  \n",
       "0  256  391  [EEG FP1-REF, EEG FP2-REF, EEG F3-REF, EEG F4-...  \n",
       "1  256  391  [EEG FP1-REF, EEG FP2-REF, EEG F3-REF, EEG F4-...  \n",
       "2  256  391  [EEG FP1-REF, EEG FP2-REF, EEG F3-REF, EEG F4-...  \n",
       "3  256  603  [EEG FP1-REF, EEG FP2-REF, EEG F3-REF, EEG F4-...  \n",
       "4  256  603  [EEG FP1-REF, EEG FP2-REF, EEG F3-REF, EEG F4-...  \n",
       "5  256  603  [EEG FP1-REF, EEG FP2-REF, EEG F3-REF, EEG F4-...  \n",
       "6  256  603  [EEG FP1-REF, EEG FP2-REF, EEG F3-REF, EEG F4-...  \n",
       "7  256  603  [EEG FP1-REF, EEG FP2-REF, EEG F3-REF, EEG F4-...  \n",
       "8  256  603  [EEG FP1-REF, EEG FP2-REF, EEG F3-REF, EEG F4-...  \n",
       "9  256  603  [EEG FP1-REF, EEG FP2-REF, EEG F3-REF, EEG F4-...  "
      ]
     },
     "execution_count": 112,
     "metadata": {},
     "output_type": "execute_result"
    }
   ],
   "source": [
    "w.head(10)"
   ]
  },
  {
   "cell_type": "code",
   "execution_count": 113,
   "metadata": {},
   "outputs": [
    {
     "data": {
      "text/html": [
       "<div>\n",
       "<style scoped>\n",
       "    .dataframe tbody tr th:only-of-type {\n",
       "        vertical-align: middle;\n",
       "    }\n",
       "\n",
       "    .dataframe tbody tr th {\n",
       "        vertical-align: top;\n",
       "    }\n",
       "\n",
       "    .dataframe thead th {\n",
       "        text-align: right;\n",
       "    }\n",
       "</style>\n",
       "<table border=\"1\" class=\"dataframe\">\n",
       "  <thead>\n",
       "    <tr style=\"text-align: right;\">\n",
       "      <th></th>\n",
       "      <th>file</th>\n",
       "      <th>freq</th>\n",
       "      <th>time</th>\n",
       "      <th>montage</th>\n",
       "    </tr>\n",
       "  </thead>\n",
       "  <tbody>\n",
       "    <tr>\n",
       "      <th>0</th>\n",
       "      <td>train/03_tcp_ar_a/028/00002886/s006_2011_03_08...</td>\n",
       "      <td>256</td>\n",
       "      <td>826</td>\n",
       "      <td>[EEG FP1-REF, EEG FP2-REF, EEG F3-REF, EEG F4-...</td>\n",
       "    </tr>\n",
       "    <tr>\n",
       "      <th>1</th>\n",
       "      <td>train/03_tcp_ar_a/028/00002886/s006_2011_03_08...</td>\n",
       "      <td>256</td>\n",
       "      <td>601</td>\n",
       "      <td>[EEG FP1-REF, EEG FP2-REF, EEG F3-REF, EEG F4-...</td>\n",
       "    </tr>\n",
       "    <tr>\n",
       "      <th>2</th>\n",
       "      <td>train/03_tcp_ar_a/028/00002886/s006_2011_03_08...</td>\n",
       "      <td>256</td>\n",
       "      <td>333</td>\n",
       "      <td>[EEG FP1-REF, EEG FP2-REF, EEG F3-REF, EEG F4-...</td>\n",
       "    </tr>\n",
       "    <tr>\n",
       "      <th>3</th>\n",
       "      <td>train/03_tcp_ar_a/029/00002991/s004_2010_04_26...</td>\n",
       "      <td>256</td>\n",
       "      <td>601</td>\n",
       "      <td>[EEG FP1-REF, EEG FP2-REF, EEG F3-REF, EEG F4-...</td>\n",
       "    </tr>\n",
       "    <tr>\n",
       "      <th>4</th>\n",
       "      <td>train/03_tcp_ar_a/029/00002991/s005_2010_04_27...</td>\n",
       "      <td>256</td>\n",
       "      <td>601</td>\n",
       "      <td>[EEG FP1-REF, EEG FP2-REF, EEG F3-REF, EEG F4-...</td>\n",
       "    </tr>\n",
       "    <tr>\n",
       "      <th>5</th>\n",
       "      <td>train/03_tcp_ar_a/029/00002991/s005_2010_04_27...</td>\n",
       "      <td>256</td>\n",
       "      <td>601</td>\n",
       "      <td>[EEG FP1-REF, EEG FP2-REF, EEG F3-REF, EEG F4-...</td>\n",
       "    </tr>\n",
       "    <tr>\n",
       "      <th>6</th>\n",
       "      <td>train/03_tcp_ar_a/029/00002991/s005_2010_04_27...</td>\n",
       "      <td>256</td>\n",
       "      <td>601</td>\n",
       "      <td>[EEG FP1-REF, EEG FP2-REF, EEG F3-REF, EEG F4-...</td>\n",
       "    </tr>\n",
       "    <tr>\n",
       "      <th>7</th>\n",
       "      <td>train/03_tcp_ar_a/029/00002991/s005_2010_04_27...</td>\n",
       "      <td>256</td>\n",
       "      <td>601</td>\n",
       "      <td>[EEG FP1-REF, EEG FP2-REF, EEG F3-REF, EEG F4-...</td>\n",
       "    </tr>\n",
       "    <tr>\n",
       "      <th>8</th>\n",
       "      <td>train/03_tcp_ar_a/061/00006175/s003_2011_04_28...</td>\n",
       "      <td>256</td>\n",
       "      <td>601</td>\n",
       "      <td>[EEG FP1-REF, EEG FP2-REF, EEG F3-REF, EEG F4-...</td>\n",
       "    </tr>\n",
       "    <tr>\n",
       "      <th>9</th>\n",
       "      <td>train/03_tcp_ar_a/064/00006413/s005_2010_02_15...</td>\n",
       "      <td>256</td>\n",
       "      <td>1593</td>\n",
       "      <td>[EEG FP1-REF, EEG FP2-REF, EEG F3-REF, EEG F4-...</td>\n",
       "    </tr>\n",
       "  </tbody>\n",
       "</table>\n",
       "</div>"
      ],
      "text/plain": [
       "                                                file freq  time  \\\n",
       "0  train/03_tcp_ar_a/028/00002886/s006_2011_03_08...  256   826   \n",
       "1  train/03_tcp_ar_a/028/00002886/s006_2011_03_08...  256   601   \n",
       "2  train/03_tcp_ar_a/028/00002886/s006_2011_03_08...  256   333   \n",
       "3  train/03_tcp_ar_a/029/00002991/s004_2010_04_26...  256   601   \n",
       "4  train/03_tcp_ar_a/029/00002991/s005_2010_04_27...  256   601   \n",
       "5  train/03_tcp_ar_a/029/00002991/s005_2010_04_27...  256   601   \n",
       "6  train/03_tcp_ar_a/029/00002991/s005_2010_04_27...  256   601   \n",
       "7  train/03_tcp_ar_a/029/00002991/s005_2010_04_27...  256   601   \n",
       "8  train/03_tcp_ar_a/061/00006175/s003_2011_04_28...  256   601   \n",
       "9  train/03_tcp_ar_a/064/00006413/s005_2010_02_15...  256  1593   \n",
       "\n",
       "                                             montage  \n",
       "0  [EEG FP1-REF, EEG FP2-REF, EEG F3-REF, EEG F4-...  \n",
       "1  [EEG FP1-REF, EEG FP2-REF, EEG F3-REF, EEG F4-...  \n",
       "2  [EEG FP1-REF, EEG FP2-REF, EEG F3-REF, EEG F4-...  \n",
       "3  [EEG FP1-REF, EEG FP2-REF, EEG F3-REF, EEG F4-...  \n",
       "4  [EEG FP1-REF, EEG FP2-REF, EEG F3-REF, EEG F4-...  \n",
       "5  [EEG FP1-REF, EEG FP2-REF, EEG F3-REF, EEG F4-...  \n",
       "6  [EEG FP1-REF, EEG FP2-REF, EEG F3-REF, EEG F4-...  \n",
       "7  [EEG FP1-REF, EEG FP2-REF, EEG F3-REF, EEG F4-...  \n",
       "8  [EEG FP1-REF, EEG FP2-REF, EEG F3-REF, EEG F4-...  \n",
       "9  [EEG FP1-REF, EEG FP2-REF, EEG F3-REF, EEG F4-...  "
      ]
     },
     "execution_count": 113,
     "metadata": {},
     "output_type": "execute_result"
    }
   ],
   "source": [
    "n.head(10)"
   ]
  },
  {
   "cell_type": "code",
   "execution_count": 114,
   "metadata": {},
   "outputs": [],
   "source": [
    "np.save('w_train.npy',w)\n",
    "np.save('n_train.npy',n)"
   ]
  },
  {
   "cell_type": "code",
   "execution_count": null,
   "metadata": {},
   "outputs": [],
   "source": []
  }
 ],
 "metadata": {
  "kernelspec": {
   "display_name": "Python 3",
   "language": "python",
   "name": "python3"
  },
  "language_info": {
   "codemirror_mode": {
    "name": "ipython",
    "version": 3
   },
   "file_extension": ".py",
   "mimetype": "text/x-python",
   "name": "python",
   "nbconvert_exporter": "python",
   "pygments_lexer": "ipython3",
   "version": "3.7.4"
  },
  "toc": {
   "base_numbering": 1,
   "nav_menu": {},
   "number_sections": true,
   "sideBar": true,
   "skip_h1_title": false,
   "title_cell": "Table of Contents",
   "title_sidebar": "Contents",
   "toc_cell": false,
   "toc_position": {},
   "toc_section_display": true,
   "toc_window_display": false
  },
  "varInspector": {
   "cols": {
    "lenName": 16,
    "lenType": 16,
    "lenVar": 40
   },
   "kernels_config": {
    "python": {
     "delete_cmd_postfix": "",
     "delete_cmd_prefix": "del ",
     "library": "var_list.py",
     "varRefreshCmd": "print(var_dic_list())"
    },
    "r": {
     "delete_cmd_postfix": ") ",
     "delete_cmd_prefix": "rm(",
     "library": "var_list.r",
     "varRefreshCmd": "cat(var_dic_list()) "
    }
   },
   "types_to_exclude": [
    "module",
    "function",
    "builtin_function_or_method",
    "instance",
    "_Feature"
   ],
   "window_display": false
  }
 },
 "nbformat": 4,
 "nbformat_minor": 2
}
