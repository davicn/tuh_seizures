{
 "cells": [
  {
   "cell_type": "code",
   "execution_count": 1,
   "metadata": {},
   "outputs": [],
   "source": [
    "import numpy as np\n",
    "import pandas as pd \n",
    "import os "
   ]
  },
  {
   "cell_type": "code",
   "execution_count": 2,
   "metadata": {},
   "outputs": [
    {
     "data": {
      "text/plain": [
       "'/home/davi/GitHub/tuh_seizures/scripts'"
      ]
     },
     "execution_count": 2,
     "metadata": {},
     "output_type": "execute_result"
    }
   ],
   "source": [
    "path = os.getcwd()\n",
    "path"
   ]
  },
  {
   "cell_type": "code",
   "execution_count": 4,
   "metadata": {},
   "outputs": [],
   "source": [
    "emg_w = np.load(path+'/EMG_com_crise.npy')\n",
    "emg_n = np.load(path+'/EMG_sem_crise.npy')"
   ]
  },
  {
   "cell_type": "code",
   "execution_count": 3,
   "metadata": {},
   "outputs": [],
   "source": [
    "from scipy.stats import skew, kurtosis\n",
    "\n",
    "fs = 256 \n",
    "\n",
    "def energy_(x):\n",
    "    return np.sum(np.abs(x)**2)\n",
    "\n",
    "def curtose(s, fs):\n",
    "    m = np.array([kurtosis(s[i*fs:(i+1)*fs]) for i in range((len(s)//fs)-1)])\n",
    "    return m\n",
    "\n",
    "def assimetria(s, fs):\n",
    "    m = np.array([skew(s[i*fs:(i+1)*fs]) for i in range((len(s)//fs)-1)])\n",
    "    return m\n",
    "\n",
    "def variancia(s, fs):\n",
    "    m = np.array([np.var(s[i*fs:(i+1)*fs]) for i in range((len(s)//fs)-1)])\n",
    "    return m\n",
    "\n",
    "def energia(s, fs):\n",
    "    m = np.array([energy_(s[i*fs:(i+1)*fs]) for i in range((len(s)//fs)-1)])\n",
    "    return m"
   ]
  },
  {
   "cell_type": "code",
   "execution_count": 5,
   "metadata": {},
   "outputs": [],
   "source": [
    "cw = curtose(emg_w,fs)\n",
    "sw = assimetria(emg_w,fs)\n",
    "vw = variancia(emg_w,fs)\n",
    "ew = energia(emg_w,fs)\n",
    "\n",
    "cn = curtose(emg_n,fs)\n",
    "sn = assimetria(emg_n,fs)\n",
    "vn = variancia(emg_n,fs)\n",
    "en = energia(emg_n,fs)"
   ]
  },
  {
   "cell_type": "code",
   "execution_count": 6,
   "metadata": {},
   "outputs": [
    {
     "data": {
      "text/html": [
       "<div>\n",
       "<style scoped>\n",
       "    .dataframe tbody tr th:only-of-type {\n",
       "        vertical-align: middle;\n",
       "    }\n",
       "\n",
       "    .dataframe tbody tr th {\n",
       "        vertical-align: top;\n",
       "    }\n",
       "\n",
       "    .dataframe thead th {\n",
       "        text-align: right;\n",
       "    }\n",
       "</style>\n",
       "<table border=\"1\" class=\"dataframe\">\n",
       "  <thead>\n",
       "    <tr style=\"text-align: right;\">\n",
       "      <th></th>\n",
       "      <th>Kurtosis</th>\n",
       "      <th>Skewness</th>\n",
       "      <th>Variance</th>\n",
       "      <th>Energy</th>\n",
       "      <th>Seizure</th>\n",
       "      <th>Class</th>\n",
       "    </tr>\n",
       "  </thead>\n",
       "  <tbody>\n",
       "    <tr>\n",
       "      <td>0</td>\n",
       "      <td>16.482734</td>\n",
       "      <td>-2.987539</td>\n",
       "      <td>8371.063325</td>\n",
       "      <td>2.537706e+06</td>\n",
       "      <td>Yes</td>\n",
       "      <td>0</td>\n",
       "    </tr>\n",
       "    <tr>\n",
       "      <td>1</td>\n",
       "      <td>1.399874</td>\n",
       "      <td>-0.292664</td>\n",
       "      <td>14376.252855</td>\n",
       "      <td>3.885460e+06</td>\n",
       "      <td>Yes</td>\n",
       "      <td>0</td>\n",
       "    </tr>\n",
       "    <tr>\n",
       "      <td>2</td>\n",
       "      <td>10.392456</td>\n",
       "      <td>2.464955</td>\n",
       "      <td>13528.626968</td>\n",
       "      <td>4.478984e+06</td>\n",
       "      <td>Yes</td>\n",
       "      <td>0</td>\n",
       "    </tr>\n",
       "    <tr>\n",
       "      <td>3</td>\n",
       "      <td>3.341172</td>\n",
       "      <td>1.675665</td>\n",
       "      <td>62716.621329</td>\n",
       "      <td>1.662288e+07</td>\n",
       "      <td>Yes</td>\n",
       "      <td>0</td>\n",
       "    </tr>\n",
       "    <tr>\n",
       "      <td>4</td>\n",
       "      <td>8.501505</td>\n",
       "      <td>2.587727</td>\n",
       "      <td>26090.585548</td>\n",
       "      <td>6.791829e+06</td>\n",
       "      <td>Yes</td>\n",
       "      <td>0</td>\n",
       "    </tr>\n",
       "  </tbody>\n",
       "</table>\n",
       "</div>"
      ],
      "text/plain": [
       "    Kurtosis  Skewness      Variance        Energy Seizure  Class\n",
       "0  16.482734 -2.987539   8371.063325  2.537706e+06     Yes      0\n",
       "1   1.399874 -0.292664  14376.252855  3.885460e+06     Yes      0\n",
       "2  10.392456  2.464955  13528.626968  4.478984e+06     Yes      0\n",
       "3   3.341172  1.675665  62716.621329  1.662288e+07     Yes      0\n",
       "4   8.501505  2.587727  26090.585548  6.791829e+06     Yes      0"
      ]
     },
     "execution_count": 6,
     "metadata": {},
     "output_type": "execute_result"
    }
   ],
   "source": [
    "col = [\"Kurtosis\",\"Skewness\",\"Variance\",\"Energy\"]\n",
    "\n",
    "d1 = np.array([cw,sw,vw,ew]).T\n",
    "d2 = np.array([cn,sn,vn,en]).T\n",
    "d = np.vstack((d1,d2))\n",
    " \n",
    "D = pd.DataFrame(data=d,columns=col)\n",
    "D['Seizure'] = np.hstack((np.repeat('Yes',d1.shape[0]),np.repeat('No',d1.shape[0])))\n",
    "D['Class'] = np.hstack((\n",
    "    np.zeros(d1.shape[0]).astype('int'),\n",
    "    np.ones(d1.shape[0]).astype('int')))\n",
    "\n",
    "D.head()"
   ]
  },
  {
   "cell_type": "code",
   "execution_count": 8,
   "metadata": {},
   "outputs": [
    {
     "data": {
      "text/plain": [
       "<matplotlib.axes._subplots.AxesSubplot at 0x7fa1fcd34ad0>"
      ]
     },
     "execution_count": 8,
     "metadata": {},
     "output_type": "execute_result"
    },
    {
     "data": {
      "image/png": "[encoded data removed]",
      "text/plain": [
       "<Figure size 432x288 with 4 Axes>"
      ]
     },
     "metadata": {
      "needs_background": "light"
     },
     "output_type": "display_data"
    }
   ],
   "source": [
    "import matplotlib.pyplot as plt\n",
    "from matplotlib.gridspec import GridSpec\n",
    "\n",
    "import seaborn as sns\n",
    "\n",
    "fig = plt.figure(constrained_layout=True)\n",
    "gs = GridSpec(2, 2, figure=fig)\n",
    "\n",
    "ax1 = fig.add_subplot(gs[0,0])\n",
    "sns.boxplot(x='Class',y='Kurtosis',hue=\"Seizure\",data=D,showfliers=False,ax=ax1)\n",
    "\n",
    "ax2 = fig.add_subplot(gs[0,1])\n",
    "sns.boxplot(x='Class',y='Skewness',hue=\"Seizure\",data=D,showfliers=False,ax=ax2)\n",
    "\n",
    "ax3 = fig.add_subplot(gs[1,0])\n",
    "sns.boxplot(x='Class',y='Variance',hue=\"Seizure\",data=D,showfliers=False,ax=ax3)\n",
    "\n",
    "ax4 = fig.add_subplot(gs[1,1])\n",
    "sns.boxplot(x='Class',y='Energy',hue=\"Seizure\",data=D,showfliers=False,ax=ax4)"
   ]
  },
  {
   "cell_type": "code",
   "execution_count": 15,
   "metadata": {},
   "outputs": [
    {
     "data": {
      "text/plain": [
       "{'whiskers': [<matplotlib.lines.Line2D at 0x7fa1f8f2fcd0>,\n",
       "  <matplotlib.lines.Line2D at 0x7fa1f8f3af50>,\n",
       "  <matplotlib.lines.Line2D at 0x7fa1f8f49910>,\n",
       "  <matplotlib.lines.Line2D at 0x7fa1f8f49e10>],\n",
       " 'caps': [<matplotlib.lines.Line2D at 0x7fa1f8f3a910>,\n",
       "  <matplotlib.lines.Line2D at 0x7fa1f8f3f990>,\n",
       "  <matplotlib.lines.Line2D at 0x7fa1f8f84990>,\n",
       "  <matplotlib.lines.Line2D at 0x7fa1f8f51810>],\n",
       " 'boxes': [<matplotlib.lines.Line2D at 0x7fa1f8f2fd10>,\n",
       "  <matplotlib.lines.Line2D at 0x7fa1f8f3fdd0>],\n",
       " 'medians': [<matplotlib.lines.Line2D at 0x7fa1f8f3fed0>,\n",
       "  <matplotlib.lines.Line2D at 0x7fa1f8f51d10>],\n",
       " 'fliers': [],\n",
       " 'means': []}"
      ]
     },
     "execution_count": 15,
     "metadata": {},
     "output_type": "execute_result"
    },
    {
     "data": {
      "image/png": "[encoded data removed]",
      "text/plain": [
       "<Figure size 720x576 with 1 Axes>"
      ]
     },
     "metadata": {
      "needs_background": "light"
     },
     "output_type": "display_data"
    }
   ],
   "source": [
    "from scipy.fftpack import fft\n",
    "\n",
    "y1 = fft(emg_w)\n",
    "y2 = fft(emg_n)\n",
    "fig = plt.figure(figsize=(10,8))\n",
    "plt.boxplot([np.abs(y1),np.abs(y2)],showfliers=False)\n",
    "\n"
   ]
  }
 ],
 "metadata": {
  "kernelspec": {
   "display_name": "Python 3",
   "language": "python",
   "name": "python3"
  },
  "language_info": {
   "codemirror_mode": {
    "name": "ipython",
    "version": 3
   },
   "file_extension": ".py",
   "mimetype": "text/x-python",
   "name": "python",
   "nbconvert_exporter": "python",
   "pygments_lexer": "ipython3",
   "version": "3.7.4"
  },
  "toc": {
   "base_numbering": 1,
   "nav_menu": {},
   "number_sections": true,
   "sideBar": true,
   "skip_h1_title": false,
   "title_cell": "Table of Contents",
   "title_sidebar": "Contents",
   "toc_cell": false,
   "toc_position": {},
   "toc_section_display": true,
   "toc_window_display": false
  },
  "varInspector": {
   "cols": {
    "lenName": 16,
    "lenType": 16,
    "lenVar": 40
   },
   "kernels_config": {
    "python": {
     "delete_cmd_postfix": "",
     "delete_cmd_prefix": "del ",
     "library": "var_list.py",
     "varRefreshCmd": "print(var_dic_list())"
    },
    "r": {
     "delete_cmd_postfix": ") ",
     "delete_cmd_prefix": "rm(",
     "library": "var_list.r",
     "varRefreshCmd": "cat(var_dic_list()) "
    }
   },
   "types_to_exclude": [
    "module",
    "function",
    "builtin_function_or_method",
    "instance",
    "_Feature"
   ],
   "window_display": false
  }
 },
 "nbformat": 4,
 "nbformat_minor": 2
}
